{
 "cells": [
  {
   "cell_type": "code",
   "execution_count": 1,
   "metadata": {},
   "outputs": [],
   "source": [
    "import pandas as pd\n",
    "import numpy as np\n",
    "import seaborn as sns\n",
    "import matplotlib.pyplot as plt\n",
    "import requests\n",
    "import json\n",
    "import csv\n",
    "import os\n",
    "from datetime import datetime\n",
    "\n",
    "%matplotlib inline"
   ]
  },
  {
   "cell_type": "markdown",
   "metadata": {},
   "source": [
    "# ·收集数据"
   ]
  },
  {
   "cell_type": "code",
   "execution_count": 2,
   "metadata": {},
   "outputs": [
    {
     "data": {
      "text/html": [
       "<div>\n",
       "<style scoped>\n",
       "    .dataframe tbody tr th:only-of-type {\n",
       "        vertical-align: middle;\n",
       "    }\n",
       "\n",
       "    .dataframe tbody tr th {\n",
       "        vertical-align: top;\n",
       "    }\n",
       "\n",
       "    .dataframe thead th {\n",
       "        text-align: right;\n",
       "    }\n",
       "</style>\n",
       "<table border=\"1\" class=\"dataframe\">\n",
       "  <thead>\n",
       "    <tr style=\"text-align: right;\">\n",
       "      <th></th>\n",
       "      <th>tweet_id</th>\n",
       "      <th>in_reply_to_status_id</th>\n",
       "      <th>in_reply_to_user_id</th>\n",
       "      <th>timestamp</th>\n",
       "      <th>source</th>\n",
       "      <th>text</th>\n",
       "      <th>retweeted_status_id</th>\n",
       "      <th>retweeted_status_user_id</th>\n",
       "      <th>retweeted_status_timestamp</th>\n",
       "      <th>expanded_urls</th>\n",
       "      <th>rating_numerator</th>\n",
       "      <th>rating_denominator</th>\n",
       "      <th>name</th>\n",
       "      <th>doggo</th>\n",
       "      <th>floofer</th>\n",
       "      <th>pupper</th>\n",
       "      <th>puppo</th>\n",
       "    </tr>\n",
       "  </thead>\n",
       "  <tbody>\n",
       "    <tr>\n",
       "      <th>0</th>\n",
       "      <td>892420643555336193</td>\n",
       "      <td>NaN</td>\n",
       "      <td>NaN</td>\n",
       "      <td>2017-08-01 16:23:56 +0000</td>\n",
       "      <td>&lt;a href=\"http://twitter.com/download/iphone\" r...</td>\n",
       "      <td>This is Phineas. He's a mystical boy. Only eve...</td>\n",
       "      <td>NaN</td>\n",
       "      <td>NaN</td>\n",
       "      <td>NaN</td>\n",
       "      <td>https://twitter.com/dog_rates/status/892420643...</td>\n",
       "      <td>13</td>\n",
       "      <td>10</td>\n",
       "      <td>Phineas</td>\n",
       "      <td>None</td>\n",
       "      <td>None</td>\n",
       "      <td>None</td>\n",
       "      <td>None</td>\n",
       "    </tr>\n",
       "    <tr>\n",
       "      <th>1</th>\n",
       "      <td>892177421306343426</td>\n",
       "      <td>NaN</td>\n",
       "      <td>NaN</td>\n",
       "      <td>2017-08-01 00:17:27 +0000</td>\n",
       "      <td>&lt;a href=\"http://twitter.com/download/iphone\" r...</td>\n",
       "      <td>This is Tilly. She's just checking pup on you....</td>\n",
       "      <td>NaN</td>\n",
       "      <td>NaN</td>\n",
       "      <td>NaN</td>\n",
       "      <td>https://twitter.com/dog_rates/status/892177421...</td>\n",
       "      <td>13</td>\n",
       "      <td>10</td>\n",
       "      <td>Tilly</td>\n",
       "      <td>None</td>\n",
       "      <td>None</td>\n",
       "      <td>None</td>\n",
       "      <td>None</td>\n",
       "    </tr>\n",
       "    <tr>\n",
       "      <th>2</th>\n",
       "      <td>891815181378084864</td>\n",
       "      <td>NaN</td>\n",
       "      <td>NaN</td>\n",
       "      <td>2017-07-31 00:18:03 +0000</td>\n",
       "      <td>&lt;a href=\"http://twitter.com/download/iphone\" r...</td>\n",
       "      <td>This is Archie. He is a rare Norwegian Pouncin...</td>\n",
       "      <td>NaN</td>\n",
       "      <td>NaN</td>\n",
       "      <td>NaN</td>\n",
       "      <td>https://twitter.com/dog_rates/status/891815181...</td>\n",
       "      <td>12</td>\n",
       "      <td>10</td>\n",
       "      <td>Archie</td>\n",
       "      <td>None</td>\n",
       "      <td>None</td>\n",
       "      <td>None</td>\n",
       "      <td>None</td>\n",
       "    </tr>\n",
       "    <tr>\n",
       "      <th>3</th>\n",
       "      <td>891689557279858688</td>\n",
       "      <td>NaN</td>\n",
       "      <td>NaN</td>\n",
       "      <td>2017-07-30 15:58:51 +0000</td>\n",
       "      <td>&lt;a href=\"http://twitter.com/download/iphone\" r...</td>\n",
       "      <td>This is Darla. She commenced a snooze mid meal...</td>\n",
       "      <td>NaN</td>\n",
       "      <td>NaN</td>\n",
       "      <td>NaN</td>\n",
       "      <td>https://twitter.com/dog_rates/status/891689557...</td>\n",
       "      <td>13</td>\n",
       "      <td>10</td>\n",
       "      <td>Darla</td>\n",
       "      <td>None</td>\n",
       "      <td>None</td>\n",
       "      <td>None</td>\n",
       "      <td>None</td>\n",
       "    </tr>\n",
       "    <tr>\n",
       "      <th>4</th>\n",
       "      <td>891327558926688256</td>\n",
       "      <td>NaN</td>\n",
       "      <td>NaN</td>\n",
       "      <td>2017-07-29 16:00:24 +0000</td>\n",
       "      <td>&lt;a href=\"http://twitter.com/download/iphone\" r...</td>\n",
       "      <td>This is Franklin. He would like you to stop ca...</td>\n",
       "      <td>NaN</td>\n",
       "      <td>NaN</td>\n",
       "      <td>NaN</td>\n",
       "      <td>https://twitter.com/dog_rates/status/891327558...</td>\n",
       "      <td>12</td>\n",
       "      <td>10</td>\n",
       "      <td>Franklin</td>\n",
       "      <td>None</td>\n",
       "      <td>None</td>\n",
       "      <td>None</td>\n",
       "      <td>None</td>\n",
       "    </tr>\n",
       "  </tbody>\n",
       "</table>\n",
       "</div>"
      ],
      "text/plain": [
       "             tweet_id  in_reply_to_status_id  in_reply_to_user_id  \\\n",
       "0  892420643555336193                    NaN                  NaN   \n",
       "1  892177421306343426                    NaN                  NaN   \n",
       "2  891815181378084864                    NaN                  NaN   \n",
       "3  891689557279858688                    NaN                  NaN   \n",
       "4  891327558926688256                    NaN                  NaN   \n",
       "\n",
       "                   timestamp  \\\n",
       "0  2017-08-01 16:23:56 +0000   \n",
       "1  2017-08-01 00:17:27 +0000   \n",
       "2  2017-07-31 00:18:03 +0000   \n",
       "3  2017-07-30 15:58:51 +0000   \n",
       "4  2017-07-29 16:00:24 +0000   \n",
       "\n",
       "                                              source  \\\n",
       "0  <a href=\"http://twitter.com/download/iphone\" r...   \n",
       "1  <a href=\"http://twitter.com/download/iphone\" r...   \n",
       "2  <a href=\"http://twitter.com/download/iphone\" r...   \n",
       "3  <a href=\"http://twitter.com/download/iphone\" r...   \n",
       "4  <a href=\"http://twitter.com/download/iphone\" r...   \n",
       "\n",
       "                                                text  retweeted_status_id  \\\n",
       "0  This is Phineas. He's a mystical boy. Only eve...                  NaN   \n",
       "1  This is Tilly. She's just checking pup on you....                  NaN   \n",
       "2  This is Archie. He is a rare Norwegian Pouncin...                  NaN   \n",
       "3  This is Darla. She commenced a snooze mid meal...                  NaN   \n",
       "4  This is Franklin. He would like you to stop ca...                  NaN   \n",
       "\n",
       "   retweeted_status_user_id retweeted_status_timestamp  \\\n",
       "0                       NaN                        NaN   \n",
       "1                       NaN                        NaN   \n",
       "2                       NaN                        NaN   \n",
       "3                       NaN                        NaN   \n",
       "4                       NaN                        NaN   \n",
       "\n",
       "                                       expanded_urls  rating_numerator  \\\n",
       "0  https://twitter.com/dog_rates/status/892420643...                13   \n",
       "1  https://twitter.com/dog_rates/status/892177421...                13   \n",
       "2  https://twitter.com/dog_rates/status/891815181...                12   \n",
       "3  https://twitter.com/dog_rates/status/891689557...                13   \n",
       "4  https://twitter.com/dog_rates/status/891327558...                12   \n",
       "\n",
       "   rating_denominator      name doggo floofer pupper puppo  \n",
       "0                  10   Phineas  None    None   None  None  \n",
       "1                  10     Tilly  None    None   None  None  \n",
       "2                  10    Archie  None    None   None  None  \n",
       "3                  10     Darla  None    None   None  None  \n",
       "4                  10  Franklin  None    None   None  None  "
      ]
     },
     "execution_count": 2,
     "metadata": {},
     "output_type": "execute_result"
    }
   ],
   "source": [
    "# pd.read_csv()读取twitter-archive-enhanced.csv内的信息并保存到twitter_archive_enhanced中\n",
    "twitter_archive_enhanced = pd.read_csv('twitter-archive-enhanced.csv')\n",
    "twitter_archive_enhanced.head()"
   ]
  },
  {
   "cell_type": "code",
   "execution_count": 3,
   "metadata": {},
   "outputs": [
    {
     "data": {
      "text/plain": [
       "['tweet_id',\n",
       " 'in_reply_to_status_id',\n",
       " 'in_reply_to_user_id',\n",
       " 'timestamp',\n",
       " 'source',\n",
       " 'text',\n",
       " 'retweeted_status_id',\n",
       " 'retweeted_status_user_id',\n",
       " 'retweeted_status_timestamp',\n",
       " 'expanded_urls',\n",
       " 'rating_numerator',\n",
       " 'rating_denominator',\n",
       " 'name',\n",
       " 'doggo',\n",
       " 'floofer',\n",
       " 'pupper',\n",
       " 'puppo']"
      ]
     },
     "execution_count": 3,
     "metadata": {},
     "output_type": "execute_result"
    }
   ],
   "source": [
    "list(twitter_archive_enhanced)"
   ]
  },
  {
   "cell_type": "code",
   "execution_count": 4,
   "metadata": {
    "scrolled": true
   },
   "outputs": [
    {
     "data": {
      "text/html": [
       "<div>\n",
       "<style scoped>\n",
       "    .dataframe tbody tr th:only-of-type {\n",
       "        vertical-align: middle;\n",
       "    }\n",
       "\n",
       "    .dataframe tbody tr th {\n",
       "        vertical-align: top;\n",
       "    }\n",
       "\n",
       "    .dataframe thead th {\n",
       "        text-align: right;\n",
       "    }\n",
       "</style>\n",
       "<table border=\"1\" class=\"dataframe\">\n",
       "  <thead>\n",
       "    <tr style=\"text-align: right;\">\n",
       "      <th></th>\n",
       "      <th>tweet_id</th>\n",
       "      <th>jpg_url</th>\n",
       "      <th>img_num</th>\n",
       "      <th>p1</th>\n",
       "      <th>p1_conf</th>\n",
       "      <th>p1_dog</th>\n",
       "      <th>p2</th>\n",
       "      <th>p2_conf</th>\n",
       "      <th>p2_dog</th>\n",
       "      <th>p3</th>\n",
       "      <th>p3_conf</th>\n",
       "      <th>p3_dog</th>\n",
       "    </tr>\n",
       "  </thead>\n",
       "  <tbody>\n",
       "    <tr>\n",
       "      <th>0</th>\n",
       "      <td>666020888022790149</td>\n",
       "      <td>https://pbs.twimg.com/media/CT4udn0WwAA0aMy.jpg</td>\n",
       "      <td>1</td>\n",
       "      <td>Welsh_springer_spaniel</td>\n",
       "      <td>0.465074</td>\n",
       "      <td>True</td>\n",
       "      <td>collie</td>\n",
       "      <td>0.156665</td>\n",
       "      <td>True</td>\n",
       "      <td>Shetland_sheepdog</td>\n",
       "      <td>0.061428</td>\n",
       "      <td>True</td>\n",
       "    </tr>\n",
       "    <tr>\n",
       "      <th>1</th>\n",
       "      <td>666029285002620928</td>\n",
       "      <td>https://pbs.twimg.com/media/CT42GRgUYAA5iDo.jpg</td>\n",
       "      <td>1</td>\n",
       "      <td>redbone</td>\n",
       "      <td>0.506826</td>\n",
       "      <td>True</td>\n",
       "      <td>miniature_pinscher</td>\n",
       "      <td>0.074192</td>\n",
       "      <td>True</td>\n",
       "      <td>Rhodesian_ridgeback</td>\n",
       "      <td>0.072010</td>\n",
       "      <td>True</td>\n",
       "    </tr>\n",
       "    <tr>\n",
       "      <th>2</th>\n",
       "      <td>666033412701032449</td>\n",
       "      <td>https://pbs.twimg.com/media/CT4521TWwAEvMyu.jpg</td>\n",
       "      <td>1</td>\n",
       "      <td>German_shepherd</td>\n",
       "      <td>0.596461</td>\n",
       "      <td>True</td>\n",
       "      <td>malinois</td>\n",
       "      <td>0.138584</td>\n",
       "      <td>True</td>\n",
       "      <td>bloodhound</td>\n",
       "      <td>0.116197</td>\n",
       "      <td>True</td>\n",
       "    </tr>\n",
       "    <tr>\n",
       "      <th>3</th>\n",
       "      <td>666044226329800704</td>\n",
       "      <td>https://pbs.twimg.com/media/CT5Dr8HUEAA-lEu.jpg</td>\n",
       "      <td>1</td>\n",
       "      <td>Rhodesian_ridgeback</td>\n",
       "      <td>0.408143</td>\n",
       "      <td>True</td>\n",
       "      <td>redbone</td>\n",
       "      <td>0.360687</td>\n",
       "      <td>True</td>\n",
       "      <td>miniature_pinscher</td>\n",
       "      <td>0.222752</td>\n",
       "      <td>True</td>\n",
       "    </tr>\n",
       "    <tr>\n",
       "      <th>4</th>\n",
       "      <td>666049248165822465</td>\n",
       "      <td>https://pbs.twimg.com/media/CT5IQmsXIAAKY4A.jpg</td>\n",
       "      <td>1</td>\n",
       "      <td>miniature_pinscher</td>\n",
       "      <td>0.560311</td>\n",
       "      <td>True</td>\n",
       "      <td>Rottweiler</td>\n",
       "      <td>0.243682</td>\n",
       "      <td>True</td>\n",
       "      <td>Doberman</td>\n",
       "      <td>0.154629</td>\n",
       "      <td>True</td>\n",
       "    </tr>\n",
       "  </tbody>\n",
       "</table>\n",
       "</div>"
      ],
      "text/plain": [
       "             tweet_id                                          jpg_url  \\\n",
       "0  666020888022790149  https://pbs.twimg.com/media/CT4udn0WwAA0aMy.jpg   \n",
       "1  666029285002620928  https://pbs.twimg.com/media/CT42GRgUYAA5iDo.jpg   \n",
       "2  666033412701032449  https://pbs.twimg.com/media/CT4521TWwAEvMyu.jpg   \n",
       "3  666044226329800704  https://pbs.twimg.com/media/CT5Dr8HUEAA-lEu.jpg   \n",
       "4  666049248165822465  https://pbs.twimg.com/media/CT5IQmsXIAAKY4A.jpg   \n",
       "\n",
       "   img_num                      p1   p1_conf  p1_dog                  p2  \\\n",
       "0        1  Welsh_springer_spaniel  0.465074    True              collie   \n",
       "1        1                 redbone  0.506826    True  miniature_pinscher   \n",
       "2        1         German_shepherd  0.596461    True            malinois   \n",
       "3        1     Rhodesian_ridgeback  0.408143    True             redbone   \n",
       "4        1      miniature_pinscher  0.560311    True          Rottweiler   \n",
       "\n",
       "    p2_conf  p2_dog                   p3   p3_conf  p3_dog  \n",
       "0  0.156665    True    Shetland_sheepdog  0.061428    True  \n",
       "1  0.074192    True  Rhodesian_ridgeback  0.072010    True  \n",
       "2  0.138584    True           bloodhound  0.116197    True  \n",
       "3  0.360687    True   miniature_pinscher  0.222752    True  \n",
       "4  0.243682    True             Doberman  0.154629    True  "
      ]
     },
     "execution_count": 4,
     "metadata": {},
     "output_type": "execute_result"
    }
   ],
   "source": [
    "# 从URL中获取数据\n",
    "URL = 'https://raw.githubusercontent.com/udacity/new-dand-advanced-china/master/%E6%95%B0%E6%8D%AE%E6%B8%85%E6%B4%97/WeRateDogs%E9%A1%B9%E7%9B%AE/image-predictions.tsv'\n",
    "response = requests.get(URL)\n",
    "with open(URL.split('/')[-1],mode = 'wb') as file:\n",
    "    file.write(response.content)\n",
    "image_predictions = pd.read_csv('image-predictions.tsv',sep='\\t')\n",
    "image_predictions.head()     "
   ]
  },
  {
   "cell_type": "code",
   "execution_count": 5,
   "metadata": {},
   "outputs": [],
   "source": [
    "#将神经网络的预测结果保存为image_predictions.tsv文件\n",
    "image_predictions.to_csv('image_predictions.tsv', index = False)"
   ]
  },
  {
   "cell_type": "code",
   "execution_count": 6,
   "metadata": {},
   "outputs": [
    {
     "data": {
      "text/plain": [
       "['tweet_id',\n",
       " 'jpg_url',\n",
       " 'img_num',\n",
       " 'p1',\n",
       " 'p1_conf',\n",
       " 'p1_dog',\n",
       " 'p2',\n",
       " 'p2_conf',\n",
       " 'p2_dog',\n",
       " 'p3',\n",
       " 'p3_conf',\n",
       " 'p3_dog']"
      ]
     },
     "execution_count": 6,
     "metadata": {},
     "output_type": "execute_result"
    }
   ],
   "source": [
    "list(image_predictions)"
   ]
  },
  {
   "cell_type": "code",
   "execution_count": 6,
   "metadata": {},
   "outputs": [
    {
     "data": {
      "text/html": [
       "<div>\n",
       "<style scoped>\n",
       "    .dataframe tbody tr th:only-of-type {\n",
       "        vertical-align: middle;\n",
       "    }\n",
       "\n",
       "    .dataframe tbody tr th {\n",
       "        vertical-align: top;\n",
       "    }\n",
       "\n",
       "    .dataframe thead th {\n",
       "        text-align: right;\n",
       "    }\n",
       "</style>\n",
       "<table border=\"1\" class=\"dataframe\">\n",
       "  <thead>\n",
       "    <tr style=\"text-align: right;\">\n",
       "      <th></th>\n",
       "      <th>tweet_id</th>\n",
       "      <th>retweet_count</th>\n",
       "      <th>favorite_count</th>\n",
       "    </tr>\n",
       "  </thead>\n",
       "  <tbody>\n",
       "    <tr>\n",
       "      <th>0</th>\n",
       "      <td>892420643555336193</td>\n",
       "      <td>8842</td>\n",
       "      <td>39492</td>\n",
       "    </tr>\n",
       "    <tr>\n",
       "      <th>1</th>\n",
       "      <td>892177421306343426</td>\n",
       "      <td>6480</td>\n",
       "      <td>33786</td>\n",
       "    </tr>\n",
       "    <tr>\n",
       "      <th>2</th>\n",
       "      <td>891815181378084864</td>\n",
       "      <td>4301</td>\n",
       "      <td>25445</td>\n",
       "    </tr>\n",
       "    <tr>\n",
       "      <th>3</th>\n",
       "      <td>891689557279858688</td>\n",
       "      <td>8925</td>\n",
       "      <td>42863</td>\n",
       "    </tr>\n",
       "    <tr>\n",
       "      <th>4</th>\n",
       "      <td>891327558926688256</td>\n",
       "      <td>9721</td>\n",
       "      <td>41016</td>\n",
       "    </tr>\n",
       "  </tbody>\n",
       "</table>\n",
       "</div>"
      ],
      "text/plain": [
       "             tweet_id  retweet_count  favorite_count\n",
       "0  892420643555336193           8842           39492\n",
       "1  892177421306343426           6480           33786\n",
       "2  891815181378084864           4301           25445\n",
       "3  891689557279858688           8925           42863\n",
       "4  891327558926688256           9721           41016"
      ]
     },
     "execution_count": 6,
     "metadata": {},
     "output_type": "execute_result"
    }
   ],
   "source": [
    "#提取需要被分析的列信息\n",
    "with open('tweet_json.txt','r')as file:\n",
    "    tweet_list = []\n",
    "    for row in file:\n",
    "        json_dict = json.loads(row)\n",
    "        append_col = {\n",
    "           'tweet_id':json_dict['id_str'],\n",
    "           'retweet_count':json_dict['retweet_count'],\n",
    "           'favorite_count':json_dict['favorite_count']\n",
    "        }\n",
    "        tweet_list.append(append_col)\n",
    "tweet = pd.DataFrame(tweet_list, columns = ['tweet_id', 'retweet_count', 'favorite_count'])\n",
    "tweet.head()"
   ]
  },
  {
   "cell_type": "markdown",
   "metadata": {},
   "source": [
    "# ·评估数据"
   ]
  },
  {
   "cell_type": "code",
   "execution_count": 7,
   "metadata": {},
   "outputs": [],
   "source": [
    "#设置显示列数及列宽\n",
    "pd.options.display.max_columns = 100\n",
    "pd.set_option('max_colwidth',200)"
   ]
  },
  {
   "cell_type": "markdown",
   "metadata": {},
   "source": [
    "## twitter_archive_enhanced评估分析"
   ]
  },
  {
   "cell_type": "code",
   "execution_count": 7,
   "metadata": {},
   "outputs": [
    {
     "name": "stdout",
     "output_type": "stream",
     "text": [
      "<class 'pandas.core.frame.DataFrame'>\n",
      "RangeIndex: 2356 entries, 0 to 2355\n",
      "Data columns (total 17 columns):\n",
      "tweet_id                      2356 non-null int64\n",
      "in_reply_to_status_id         78 non-null float64\n",
      "in_reply_to_user_id           78 non-null float64\n",
      "timestamp                     2356 non-null object\n",
      "source                        2356 non-null object\n",
      "text                          2356 non-null object\n",
      "retweeted_status_id           181 non-null float64\n",
      "retweeted_status_user_id      181 non-null float64\n",
      "retweeted_status_timestamp    181 non-null object\n",
      "expanded_urls                 2297 non-null object\n",
      "rating_numerator              2356 non-null int64\n",
      "rating_denominator            2356 non-null int64\n",
      "name                          2356 non-null object\n",
      "doggo                         2356 non-null object\n",
      "floofer                       2356 non-null object\n",
      "pupper                        2356 non-null object\n",
      "puppo                         2356 non-null object\n",
      "dtypes: float64(4), int64(3), object(10)\n",
      "memory usage: 313.0+ KB\n"
     ]
    }
   ],
   "source": [
    "twitter_archive_enhanced.info()"
   ]
  },
  {
   "cell_type": "code",
   "execution_count": 81,
   "metadata": {},
   "outputs": [
    {
     "data": {
      "text/plain": [
       "759    2016-09-21 00:53:04 +0000\n",
       "Name: timestamp, dtype: object"
      ]
     },
     "execution_count": 81,
     "metadata": {},
     "output_type": "execute_result"
    }
   ],
   "source": [
    "twitter_archive_enhanced.sample(1).timestamp"
   ]
  },
  {
   "cell_type": "markdown",
   "metadata": {},
   "source": [
    "#### 1、timestamp属性的数据类型错误\n",
    "#### 2、rating_numerator & rating_denominator评分的分子分母应该合并为一个属性，数据类型为float\n",
    "#### 3、doggo、floofer、pupper、puppo狗狗的四个成长阶段应该合并为一个属性\n",
    "#### 4、in_reply_to_status_id、in_reply_to_user_id、retweeted_status_id、retweeted_status_user_id、retweeted_status_timestamp数据缺失量比较大\n",
    "#### 5、expanded_urls存在部分数据缺失"
   ]
  },
  {
   "cell_type": "code",
   "execution_count": 59,
   "metadata": {},
   "outputs": [
    {
     "data": {
      "text/plain": [
       "<a href=\"http://twitter.com/download/iphone\" rel=\"nofollow\">Twitter for iPhone</a>     2221\n",
       "<a href=\"http://vine.co\" rel=\"nofollow\">Vine - Make a Scene</a>                          91\n",
       "<a href=\"http://twitter.com\" rel=\"nofollow\">Twitter Web Client</a>                       33\n",
       "<a href=\"https://about.twitter.com/products/tweetdeck\" rel=\"nofollow\">TweetDeck</a>      11\n",
       "Name: source, dtype: int64"
      ]
     },
     "execution_count": 59,
     "metadata": {},
     "output_type": "execute_result"
    }
   ],
   "source": [
    "twitter_archive_enhanced.source.value_counts()"
   ]
  },
  {
   "cell_type": "markdown",
   "metadata": {},
   "source": [
    "#### 6、twitter_archive_enhanced的source属性中存在URL重复"
   ]
  },
  {
   "cell_type": "code",
   "execution_count": 12,
   "metadata": {},
   "outputs": [
    {
     "data": {
      "text/plain": [
       "0    1976\n",
       "1     366\n",
       "2      14\n",
       "dtype: int64"
      ]
     },
     "execution_count": 12,
     "metadata": {},
     "output_type": "execute_result"
    }
   ],
   "source": [
    "dog_stage = twitter_archive_enhanced[['doggo', 'floofer', 'pupper', 'puppo']]\n",
    "dog_stage.replace('None',np.nan).notnull().sum(axis=1).value_counts()"
   ]
  },
  {
   "cell_type": "markdown",
   "metadata": {},
   "source": [
    "#### 7、狗狗的阶段类型： 存在1976条数据缺失"
   ]
  },
  {
   "cell_type": "code",
   "execution_count": 30,
   "metadata": {},
   "outputs": [
    {
     "data": {
      "text/plain": [
       "12      558\n",
       "11      464\n",
       "10      461\n",
       "13      351\n",
       "9       158\n",
       "8       102\n",
       "7        55\n",
       "14       54\n",
       "5        37\n",
       "6        32\n",
       "3        19\n",
       "4        17\n",
       "1         9\n",
       "2         9\n",
       "420       2\n",
       "0         2\n",
       "15        2\n",
       "75        2\n",
       "80        1\n",
       "20        1\n",
       "24        1\n",
       "26        1\n",
       "44        1\n",
       "50        1\n",
       "60        1\n",
       "165       1\n",
       "84        1\n",
       "88        1\n",
       "144       1\n",
       "182       1\n",
       "143       1\n",
       "666       1\n",
       "960       1\n",
       "1776      1\n",
       "17        1\n",
       "27        1\n",
       "45        1\n",
       "99        1\n",
       "121       1\n",
       "204       1\n",
       "Name: rating_numerator, dtype: int64"
      ]
     },
     "execution_count": 30,
     "metadata": {},
     "output_type": "execute_result"
    }
   ],
   "source": [
    "twitter_archive_enhanced.rating_numerator.value_counts()"
   ]
  },
  {
   "cell_type": "code",
   "execution_count": 29,
   "metadata": {},
   "outputs": [
    {
     "data": {
      "text/plain": [
       "10     2333\n",
       "11        3\n",
       "50        3\n",
       "80        2\n",
       "20        2\n",
       "2         1\n",
       "16        1\n",
       "40        1\n",
       "70        1\n",
       "15        1\n",
       "90        1\n",
       "110       1\n",
       "120       1\n",
       "130       1\n",
       "150       1\n",
       "170       1\n",
       "7         1\n",
       "0         1\n",
       "Name: rating_denominator, dtype: int64"
      ]
     },
     "execution_count": 29,
     "metadata": {},
     "output_type": "execute_result"
    }
   ],
   "source": [
    "twitter_archive_enhanced.rating_denominator.value_counts()"
   ]
  },
  {
   "cell_type": "markdown",
   "metadata": {},
   "source": [
    "#### 8、评分分母不全部为10，且部分分母数值较大，似乎为错误数据"
   ]
  },
  {
   "cell_type": "code",
   "execution_count": 32,
   "metadata": {},
   "outputs": [
    {
     "data": {
      "text/plain": [
       "None           745\n",
       "a               55\n",
       "Charlie         12\n",
       "Oliver          11\n",
       "Lucy            11\n",
       "Cooper          11\n",
       "Lola            10\n",
       "Tucker          10\n",
       "Penny           10\n",
       "Winston          9\n",
       "Bo               9\n",
       "Sadie            8\n",
       "the              8\n",
       "Bailey           7\n",
       "Buddy            7\n",
       "Daisy            7\n",
       "an               7\n",
       "Toby             7\n",
       "Koda             6\n",
       "Bella            6\n",
       "Leo              6\n",
       "Stanley          6\n",
       "Jack             6\n",
       "Dave             6\n",
       "Rusty            6\n",
       "Milo             6\n",
       "Scout            6\n",
       "Jax              6\n",
       "Oscar            6\n",
       "Sunny            5\n",
       "              ... \n",
       "Pip              1\n",
       "Gustaf           1\n",
       "Harrison         1\n",
       "Rontu            1\n",
       "Koko             1\n",
       "Kawhi            1\n",
       "Evy              1\n",
       "Asher            1\n",
       "Shakespeare      1\n",
       "Jim              1\n",
       "Filup            1\n",
       "Fiji             1\n",
       "Barney           1\n",
       "Kaiya            1\n",
       "Stella           1\n",
       "Chaz             1\n",
       "Kota             1\n",
       "Dale             1\n",
       "Oreo             1\n",
       "Anthony          1\n",
       "Jackie           1\n",
       "Julio            1\n",
       "Samsom           1\n",
       "his              1\n",
       "Anna             1\n",
       "Thor             1\n",
       "Nugget           1\n",
       "Odin             1\n",
       "Perry            1\n",
       "Cheryl           1\n",
       "Name: name, Length: 957, dtype: int64"
      ]
     },
     "execution_count": 32,
     "metadata": {},
     "output_type": "execute_result"
    }
   ],
   "source": [
    "twitter_archive_enhanced.name.value_counts()"
   ]
  },
  {
   "cell_type": "markdown",
   "metadata": {},
   "source": [
    "#### 9、狗狗名称存在‘a、'an'、'the'及None,应该是错误的"
   ]
  },
  {
   "cell_type": "code",
   "execution_count": 14,
   "metadata": {},
   "outputs": [
    {
     "data": {
      "text/plain": [
       "7.757333e+17    1\n",
       "7.507196e+17    1\n",
       "6.742918e+17    1\n",
       "6.833919e+17    1\n",
       "8.269587e+17    1\n",
       "8.780576e+17    1\n",
       "7.320056e+17    1\n",
       "7.186315e+17    1\n",
       "6.732953e+17    1\n",
       "7.914070e+17    1\n",
       "8.447048e+17    1\n",
       "7.862340e+17    1\n",
       "8.685523e+17    1\n",
       "7.504293e+17    1\n",
       "8.327664e+17    1\n",
       "6.690004e+17    1\n",
       "6.873173e+17    1\n",
       "7.638376e+17    1\n",
       "7.815247e+17    1\n",
       "8.092201e+17    1\n",
       "8.000650e+17    1\n",
       "8.174239e+17    1\n",
       "8.001414e+17    1\n",
       "7.909461e+17    1\n",
       "7.867091e+17    1\n",
       "8.406323e+17    1\n",
       "8.688804e+17    1\n",
       "7.869631e+17    1\n",
       "7.733088e+17    1\n",
       "8.222448e+17    1\n",
       "               ..\n",
       "6.816941e+17    1\n",
       "7.899865e+17    1\n",
       "7.939622e+17    1\n",
       "6.800555e+17    1\n",
       "7.128090e+17    1\n",
       "8.164506e+17    1\n",
       "6.769365e+17    1\n",
       "6.675487e+17    1\n",
       "8.083449e+17    1\n",
       "7.626999e+17    1\n",
       "6.678667e+17    1\n",
       "8.479710e+17    1\n",
       "6.820881e+17    1\n",
       "8.352641e+17    1\n",
       "7.761133e+17    1\n",
       "7.902771e+17    1\n",
       "6.675484e+17    1\n",
       "7.677549e+17    1\n",
       "8.782815e+17    1\n",
       "8.663350e+17    1\n",
       "7.399792e+17    1\n",
       "7.403732e+17    1\n",
       "8.395493e+17    1\n",
       "7.001438e+17    1\n",
       "8.482894e+17    1\n",
       "7.848260e+17    1\n",
       "7.806013e+17    1\n",
       "8.305833e+17    1\n",
       "7.047611e+17    1\n",
       "7.331095e+17    1\n",
       "Name: retweeted_status_id, Length: 181, dtype: int64"
      ]
     },
     "execution_count": 14,
     "metadata": {},
     "output_type": "execute_result"
    }
   ],
   "source": [
    "twitter_archive_enhanced.retweeted_status_id.value_counts()"
   ]
  },
  {
   "cell_type": "markdown",
   "metadata": {},
   "source": [
    "## image_predictions评估分析"
   ]
  },
  {
   "cell_type": "code",
   "execution_count": 38,
   "metadata": {},
   "outputs": [
    {
     "data": {
      "text/html": [
       "<div>\n",
       "<style scoped>\n",
       "    .dataframe tbody tr th:only-of-type {\n",
       "        vertical-align: middle;\n",
       "    }\n",
       "\n",
       "    .dataframe tbody tr th {\n",
       "        vertical-align: top;\n",
       "    }\n",
       "\n",
       "    .dataframe thead th {\n",
       "        text-align: right;\n",
       "    }\n",
       "</style>\n",
       "<table border=\"1\" class=\"dataframe\">\n",
       "  <thead>\n",
       "    <tr style=\"text-align: right;\">\n",
       "      <th></th>\n",
       "      <th>tweet_id</th>\n",
       "      <th>jpg_url</th>\n",
       "      <th>img_num</th>\n",
       "      <th>p1</th>\n",
       "      <th>p1_conf</th>\n",
       "      <th>p1_dog</th>\n",
       "      <th>p2</th>\n",
       "      <th>p2_conf</th>\n",
       "      <th>p2_dog</th>\n",
       "      <th>p3</th>\n",
       "      <th>p3_conf</th>\n",
       "      <th>p3_dog</th>\n",
       "    </tr>\n",
       "  </thead>\n",
       "  <tbody>\n",
       "    <tr>\n",
       "      <th>697</th>\n",
       "      <td>684538444857667585</td>\n",
       "      <td>https://pbs.twimg.com/ext_tw_video_thumb/684538367950872576/pu/img/kTKOkSU45BS-fpq8.jpg</td>\n",
       "      <td>1</td>\n",
       "      <td>Chihuahua</td>\n",
       "      <td>0.702583</td>\n",
       "      <td>True</td>\n",
       "      <td>Siamese_cat</td>\n",
       "      <td>0.068218</td>\n",
       "      <td>False</td>\n",
       "      <td>macaque</td>\n",
       "      <td>0.043325</td>\n",
       "      <td>False</td>\n",
       "    </tr>\n",
       "    <tr>\n",
       "      <th>415</th>\n",
       "      <td>674014384960745472</td>\n",
       "      <td>https://pbs.twimg.com/media/CVqUgTIUAAUA8Jr.jpg</td>\n",
       "      <td>1</td>\n",
       "      <td>Pembroke</td>\n",
       "      <td>0.742320</td>\n",
       "      <td>True</td>\n",
       "      <td>Cardigan</td>\n",
       "      <td>0.084937</td>\n",
       "      <td>True</td>\n",
       "      <td>Eskimo_dog</td>\n",
       "      <td>0.068321</td>\n",
       "      <td>True</td>\n",
       "    </tr>\n",
       "    <tr>\n",
       "      <th>479</th>\n",
       "      <td>675349384339542016</td>\n",
       "      <td>https://pbs.twimg.com/media/CV9SrABU4AQI46z.jpg</td>\n",
       "      <td>3</td>\n",
       "      <td>borzoi</td>\n",
       "      <td>0.866367</td>\n",
       "      <td>True</td>\n",
       "      <td>Saluki</td>\n",
       "      <td>0.122079</td>\n",
       "      <td>True</td>\n",
       "      <td>Irish_wolfhound</td>\n",
       "      <td>0.004020</td>\n",
       "      <td>True</td>\n",
       "    </tr>\n",
       "    <tr>\n",
       "      <th>2031</th>\n",
       "      <td>883117836046086144</td>\n",
       "      <td>https://pbs.twimg.com/media/DEF2-_hXoAAs62q.jpg</td>\n",
       "      <td>2</td>\n",
       "      <td>golden_retriever</td>\n",
       "      <td>0.949562</td>\n",
       "      <td>True</td>\n",
       "      <td>Labrador_retriever</td>\n",
       "      <td>0.045948</td>\n",
       "      <td>True</td>\n",
       "      <td>kuvasz</td>\n",
       "      <td>0.002471</td>\n",
       "      <td>True</td>\n",
       "    </tr>\n",
       "    <tr>\n",
       "      <th>404</th>\n",
       "      <td>673705679337693185</td>\n",
       "      <td>https://pbs.twimg.com/media/CVl7u00WcAAufzR.jpg</td>\n",
       "      <td>1</td>\n",
       "      <td>Shih-Tzu</td>\n",
       "      <td>0.165383</td>\n",
       "      <td>True</td>\n",
       "      <td>Lhasa</td>\n",
       "      <td>0.116977</td>\n",
       "      <td>True</td>\n",
       "      <td>Yorkshire_terrier</td>\n",
       "      <td>0.063899</td>\n",
       "      <td>True</td>\n",
       "    </tr>\n",
       "  </tbody>\n",
       "</table>\n",
       "</div>"
      ],
      "text/plain": [
       "                tweet_id  \\\n",
       "697   684538444857667585   \n",
       "415   674014384960745472   \n",
       "479   675349384339542016   \n",
       "2031  883117836046086144   \n",
       "404   673705679337693185   \n",
       "\n",
       "                                                                                      jpg_url  \\\n",
       "697   https://pbs.twimg.com/ext_tw_video_thumb/684538367950872576/pu/img/kTKOkSU45BS-fpq8.jpg   \n",
       "415                                           https://pbs.twimg.com/media/CVqUgTIUAAUA8Jr.jpg   \n",
       "479                                           https://pbs.twimg.com/media/CV9SrABU4AQI46z.jpg   \n",
       "2031                                          https://pbs.twimg.com/media/DEF2-_hXoAAs62q.jpg   \n",
       "404                                           https://pbs.twimg.com/media/CVl7u00WcAAufzR.jpg   \n",
       "\n",
       "      img_num                p1   p1_conf  p1_dog                  p2  \\\n",
       "697         1         Chihuahua  0.702583    True         Siamese_cat   \n",
       "415         1          Pembroke  0.742320    True            Cardigan   \n",
       "479         3            borzoi  0.866367    True              Saluki   \n",
       "2031        2  golden_retriever  0.949562    True  Labrador_retriever   \n",
       "404         1          Shih-Tzu  0.165383    True               Lhasa   \n",
       "\n",
       "       p2_conf  p2_dog                 p3   p3_conf  p3_dog  \n",
       "697   0.068218   False            macaque  0.043325   False  \n",
       "415   0.084937    True         Eskimo_dog  0.068321    True  \n",
       "479   0.122079    True    Irish_wolfhound  0.004020    True  \n",
       "2031  0.045948    True             kuvasz  0.002471    True  \n",
       "404   0.116977    True  Yorkshire_terrier  0.063899    True  "
      ]
     },
     "execution_count": 38,
     "metadata": {},
     "output_type": "execute_result"
    }
   ],
   "source": [
    "image_predictions.sample(5)"
   ]
  },
  {
   "cell_type": "code",
   "execution_count": 42,
   "metadata": {},
   "outputs": [
    {
     "data": {
      "text/plain": [
       "['tweet_id',\n",
       " 'jpg_url',\n",
       " 'img_num',\n",
       " 'p1',\n",
       " 'p1_conf',\n",
       " 'p1_dog',\n",
       " 'p2',\n",
       " 'p2_conf',\n",
       " 'p2_dog',\n",
       " 'p3',\n",
       " 'p3_conf',\n",
       " 'p3_dog']"
      ]
     },
     "execution_count": 42,
     "metadata": {},
     "output_type": "execute_result"
    }
   ],
   "source": [
    "list(image_predictions)"
   ]
  },
  {
   "cell_type": "code",
   "execution_count": 43,
   "metadata": {},
   "outputs": [
    {
     "name": "stdout",
     "output_type": "stream",
     "text": [
      "<class 'pandas.core.frame.DataFrame'>\n",
      "RangeIndex: 2075 entries, 0 to 2074\n",
      "Data columns (total 12 columns):\n",
      "tweet_id    2075 non-null int64\n",
      "jpg_url     2075 non-null object\n",
      "img_num     2075 non-null int64\n",
      "p1          2075 non-null object\n",
      "p1_conf     2075 non-null float64\n",
      "p1_dog      2075 non-null bool\n",
      "p2          2075 non-null object\n",
      "p2_conf     2075 non-null float64\n",
      "p2_dog      2075 non-null bool\n",
      "p3          2075 non-null object\n",
      "p3_conf     2075 non-null float64\n",
      "p3_dog      2075 non-null bool\n",
      "dtypes: bool(3), float64(3), int64(2), object(4)\n",
      "memory usage: 152.1+ KB\n"
     ]
    }
   ],
   "source": [
    "image_predictions.info()"
   ]
  },
  {
   "cell_type": "code",
   "execution_count": 40,
   "metadata": {},
   "outputs": [
    {
     "data": {
      "text/plain": [
       "https://pbs.twimg.com/media/CW88XN4WsAAlo8r.jpg                                            2\n",
       "https://pbs.twimg.com/media/Ck2d7tJWUAEPTL3.jpg                                            2\n",
       "https://pbs.twimg.com/media/Co-hmcYXYAASkiG.jpg                                            2\n",
       "https://pbs.twimg.com/media/ChK1tdBWwAQ1flD.jpg                                            2\n",
       "https://pbs.twimg.com/media/Cs_DYr1XEAA54Pu.jpg                                            2\n",
       "https://pbs.twimg.com/media/Cx5R8wPVEAALa9r.jpg                                            2\n",
       "https://pbs.twimg.com/media/C2kzTGxWEAEOpPL.jpg                                            2\n",
       "https://pbs.twimg.com/media/C4KHj-nWQAA3poV.jpg                                            2\n",
       "https://pbs.twimg.com/media/CwS4aqZXUAAe3IO.jpg                                            2\n",
       "https://pbs.twimg.com/media/CV_cnjHWUAADc-c.jpg                                            2\n",
       "https://pbs.twimg.com/media/CVgdFjNWEAAxmbq.jpg                                            2\n",
       "https://pbs.twimg.com/media/CtVAvX-WIAAcGTf.jpg                                            2\n",
       "https://pbs.twimg.com/media/C12whDoVEAALRxa.jpg                                            2\n",
       "https://pbs.twimg.com/media/CcG07BYW0AErrC9.jpg                                            2\n",
       "https://pbs.twimg.com/media/C3nygbBWQAAjwcW.jpg                                            2\n",
       "https://pbs.twimg.com/media/CU3mITUWIAAfyQS.jpg                                            2\n",
       "https://pbs.twimg.com/media/CvJCabcWgAIoUxW.jpg                                            2\n",
       "https://pbs.twimg.com/media/CWza7kpWcAAdYLc.jpg                                            2\n",
       "https://pbs.twimg.com/media/Crwxb5yWgAAX5P_.jpg                                            2\n",
       "https://pbs.twimg.com/ext_tw_video_thumb/675354114423808004/pu/img/qL1R_nGLqa6lmkOx.jpg    2\n",
       "https://pbs.twimg.com/media/Ct72q9jWcAAhlnw.jpg                                            2\n",
       "https://pbs.twimg.com/media/C12x-JTVIAAzdfl.jpg                                            2\n",
       "https://pbs.twimg.com/media/CxqsX-8XUAAEvjD.jpg                                            2\n",
       "https://pbs.twimg.com/media/DFDw2tyUQAAAFke.jpg                                            2\n",
       "https://pbs.twimg.com/media/CvyVxQRWEAAdSZS.jpg                                            2\n",
       "https://pbs.twimg.com/media/CiibOMzUYAA9Mxz.jpg                                            2\n",
       "https://pbs.twimg.com/media/CkjMx99UoAM2B1a.jpg                                            2\n",
       "https://pbs.twimg.com/media/CZhn-QAWwAASQan.jpg                                            2\n",
       "https://pbs.twimg.com/ext_tw_video_thumb/807106774843039744/pu/img/8XZg1xW35Xp2J6JW.jpg    2\n",
       "https://pbs.twimg.com/media/CuRDF-XWcAIZSer.jpg                                            2\n",
       "                                                                                          ..\n",
       "https://pbs.twimg.com/media/CUI_kHBWsAAAef5.jpg                                            1\n",
       "https://pbs.twimg.com/media/CfFNk7cWAAA-hND.jpg                                            1\n",
       "https://pbs.twimg.com/media/CWhd_7WWsAAaqWG.jpg                                            1\n",
       "https://pbs.twimg.com/media/CWhzTbzWUAAEAUN.jpg                                            1\n",
       "https://pbs.twimg.com/media/Cl-yykwWkAAqUCE.jpg                                            1\n",
       "https://pbs.twimg.com/media/CW7iddWUsAElUC0.jpg                                            1\n",
       "https://pbs.twimg.com/media/CUZE4IWW4AAZmDf.jpg                                            1\n",
       "https://pbs.twimg.com/media/CUoLEG3XAAE65I0.jpg                                            1\n",
       "https://pbs.twimg.com/media/CXBBurSWMAELewi.jpg                                            1\n",
       "https://pbs.twimg.com/media/CVwUyM9WwAAGDjv.jpg                                            1\n",
       "https://pbs.twimg.com/media/CkeJcNkXEAAcrks.jpg                                            1\n",
       "https://pbs.twimg.com/media/Cfe5tLWXEAIaoFO.jpg                                            1\n",
       "https://pbs.twimg.com/media/Cz6Z0DgWIAAfdvp.jpg                                            1\n",
       "https://pbs.twimg.com/media/CdE7ZktXIAEiWLj.jpg                                            1\n",
       "https://pbs.twimg.com/media/CrOBSfgXgAABsTE.jpg                                            1\n",
       "https://pbs.twimg.com/media/CaLBJmOWYAQt44t.jpg                                            1\n",
       "https://pbs.twimg.com/media/C0DhpcrUAAAnx88.jpg                                            1\n",
       "https://pbs.twimg.com/ext_tw_video_thumb/819924138965999617/pu/img/6OIToyT9eLESHXLU.jpg    1\n",
       "https://pbs.twimg.com/media/CXw2jSpWMAAad6V.jpg                                            1\n",
       "https://pbs.twimg.com/media/CXwZ3pbWsAAriTv.jpg                                            1\n",
       "https://pbs.twimg.com/media/CUJppKJWoAA75NP.jpg                                            1\n",
       "https://pbs.twimg.com/media/CVg9mTYWIAAu7J6.jpg                                            1\n",
       "https://pbs.twimg.com/media/CWzSMmAWsAAyB1u.jpg                                            1\n",
       "https://pbs.twimg.com/media/CWT2MUgWIAECWig.jpg                                            1\n",
       "https://pbs.twimg.com/media/CbN6IW4UYAAyVDA.jpg                                            1\n",
       "https://pbs.twimg.com/media/Ca0ps3AXEAAnp9m.jpg                                            1\n",
       "https://pbs.twimg.com/media/CUOPYI5UcAAj_nO.jpg                                            1\n",
       "https://pbs.twimg.com/media/CY2iwGNWUAI5zWi.jpg                                            1\n",
       "https://pbs.twimg.com/media/C9AohFoWsAUmxDs.jpg                                            1\n",
       "https://pbs.twimg.com/media/CxuM3oZW8AEhO5z.jpg                                            1\n",
       "Name: jpg_url, Length: 2009, dtype: int64"
      ]
     },
     "execution_count": 40,
     "metadata": {},
     "output_type": "execute_result"
    }
   ],
   "source": [
    "image_predictions.jpg_url.value_counts()"
   ]
  },
  {
   "cell_type": "code",
   "execution_count": 45,
   "metadata": {},
   "outputs": [
    {
     "data": {
      "text/plain": [
       "66"
      ]
     },
     "execution_count": 45,
     "metadata": {},
     "output_type": "execute_result"
    }
   ],
   "source": [
    "sum(image_predictions.jpg_url.duplicated())"
   ]
  },
  {
   "cell_type": "markdown",
   "metadata": {},
   "source": [
    "#### 10、image_predictions中预测的图像资源链接有66条重复，可能是转发产生的，应该被删除"
   ]
  },
  {
   "cell_type": "markdown",
   "metadata": {},
   "source": [
    "## tweet评估分析"
   ]
  },
  {
   "cell_type": "code",
   "execution_count": 47,
   "metadata": {},
   "outputs": [
    {
     "data": {
      "text/html": [
       "<div>\n",
       "<style scoped>\n",
       "    .dataframe tbody tr th:only-of-type {\n",
       "        vertical-align: middle;\n",
       "    }\n",
       "\n",
       "    .dataframe tbody tr th {\n",
       "        vertical-align: top;\n",
       "    }\n",
       "\n",
       "    .dataframe thead th {\n",
       "        text-align: right;\n",
       "    }\n",
       "</style>\n",
       "<table border=\"1\" class=\"dataframe\">\n",
       "  <thead>\n",
       "    <tr style=\"text-align: right;\">\n",
       "      <th></th>\n",
       "      <th>tweet_id</th>\n",
       "      <th>retweet_count</th>\n",
       "      <th>favorite_count</th>\n",
       "    </tr>\n",
       "  </thead>\n",
       "  <tbody>\n",
       "    <tr>\n",
       "      <th>2330</th>\n",
       "      <td>666293911632134144</td>\n",
       "      <td>365</td>\n",
       "      <td>519</td>\n",
       "    </tr>\n",
       "    <tr>\n",
       "      <th>874</th>\n",
       "      <td>760656994973933572</td>\n",
       "      <td>2198</td>\n",
       "      <td>7308</td>\n",
       "    </tr>\n",
       "    <tr>\n",
       "      <th>22</th>\n",
       "      <td>887473957103951883</td>\n",
       "      <td>18813</td>\n",
       "      <td>70007</td>\n",
       "    </tr>\n",
       "    <tr>\n",
       "      <th>193</th>\n",
       "      <td>854732716440526848</td>\n",
       "      <td>6657</td>\n",
       "      <td>24116</td>\n",
       "    </tr>\n",
       "    <tr>\n",
       "      <th>1519</th>\n",
       "      <td>690607260360429569</td>\n",
       "      <td>19</td>\n",
       "      <td>311</td>\n",
       "    </tr>\n",
       "  </tbody>\n",
       "</table>\n",
       "</div>"
      ],
      "text/plain": [
       "                tweet_id  retweet_count  favorite_count\n",
       "2330  666293911632134144            365             519\n",
       "874   760656994973933572           2198            7308\n",
       "22    887473957103951883          18813           70007\n",
       "193   854732716440526848           6657           24116\n",
       "1519  690607260360429569             19             311"
      ]
     },
     "execution_count": 47,
     "metadata": {},
     "output_type": "execute_result"
    }
   ],
   "source": [
    "tweet.sample(5)"
   ]
  },
  {
   "cell_type": "code",
   "execution_count": 48,
   "metadata": {},
   "outputs": [
    {
     "name": "stdout",
     "output_type": "stream",
     "text": [
      "<class 'pandas.core.frame.DataFrame'>\n",
      "RangeIndex: 2352 entries, 0 to 2351\n",
      "Data columns (total 3 columns):\n",
      "tweet_id          2352 non-null object\n",
      "retweet_count     2352 non-null int64\n",
      "favorite_count    2352 non-null int64\n",
      "dtypes: int64(2), object(1)\n",
      "memory usage: 55.2+ KB\n"
     ]
    }
   ],
   "source": [
    "tweet.info()"
   ]
  },
  {
   "cell_type": "code",
   "execution_count": 58,
   "metadata": {},
   "outputs": [
    {
     "data": {
      "text/plain": [
       "17    tweet_id\n",
       "29    tweet_id\n",
       "dtype: object"
      ]
     },
     "execution_count": 58,
     "metadata": {},
     "output_type": "execute_result"
    }
   ],
   "source": [
    "all_columns = pd.Series(list(twitter_archive_enhanced) + list(image_predictions)+list(tweet))\n",
    "all_columns[all_columns.duplicated()]"
   ]
  },
  {
   "cell_type": "markdown",
   "metadata": {},
   "source": [
    "## 数据评估描述  \n",
    "### 数据质量问题  \n",
    "1、twitter_archive_enhanced的timestamp 类型错误，应该修改为datatime  \n",
    "2、tweet、image_predictions、twitter_archive_enhanced中tweet_id数据类型不一样  \n",
    "3、twitter_archive_enhanced的expanded_urls 存在缺失，数据量2297小于2356 删除,并且部分URL重复出现  \n",
    "4、twitter_archive_enhanced的评分分母不全为10，应该从text文档中重新提取  \n",
    "5、twitter_archive_enhanced的狗狗成长阶段类型较多缺失值，还存在部分重复  \n",
    "6、twitter_archive_enhanced的name列存在数据错误    \n",
    "7、image_predictions的jpg_url属性存在66条重复连接  \n",
    "8、twitter_archive_enhanced中存在转发消息，应该被删除  \n",
    "9、存在回复信息、转发信息（对分析没用，应该被删除）  \n",
    "in_reply_to_status_id：回复ID 删除\n",
    "in_reply_to_user_id：被回复推文原始用户ID 删除\n",
    "retweeted_status_id：转发ID删除\n",
    "retweeted_status_user_id：转发用户ID删除\n",
    "retweeted_status_timestamp：转发时间删除\n",
    "### 整洁度问题  \n",
    "1、狗狗的阶段类型应该用一个字段属性表示  \n",
    "2、评分应该为分子/分母整合为一个列属性  \n",
    "3、tweet、image_predictions、twitter_archive_enhanced三表中观测类型相同，可以进行合并为一张表"
   ]
  },
  {
   "cell_type": "markdown",
   "metadata": {},
   "source": [
    "# ·清洗数据"
   ]
  },
  {
   "cell_type": "code",
   "execution_count": 64,
   "metadata": {},
   "outputs": [],
   "source": [
    "#源数据备份\n",
    "twitter_archive_copy = twitter_archive_enhanced.copy()\n",
    "image_predictions_copy = image_predictions.copy()\n",
    "tweet_copy = tweet.copy()"
   ]
  },
  {
   "cell_type": "markdown",
   "metadata": {},
   "source": [
    "### 1、修改twitter_archive_enhanced的timestamp数据类型为datetime"
   ]
  },
  {
   "cell_type": "code",
   "execution_count": 65,
   "metadata": {},
   "outputs": [
    {
     "name": "stdout",
     "output_type": "stream",
     "text": [
      "<class 'pandas.core.frame.DataFrame'>\n",
      "RangeIndex: 2356 entries, 0 to 2355\n",
      "Data columns (total 17 columns):\n",
      "tweet_id                      2356 non-null int64\n",
      "in_reply_to_status_id         78 non-null float64\n",
      "in_reply_to_user_id           78 non-null float64\n",
      "timestamp                     2356 non-null datetime64[ns]\n",
      "source                        2356 non-null object\n",
      "text                          2356 non-null object\n",
      "retweeted_status_id           181 non-null float64\n",
      "retweeted_status_user_id      181 non-null float64\n",
      "retweeted_status_timestamp    181 non-null object\n",
      "expanded_urls                 2297 non-null object\n",
      "rating_numerator              2356 non-null int64\n",
      "rating_denominator            2356 non-null int64\n",
      "name                          2356 non-null object\n",
      "doggo                         2356 non-null object\n",
      "floofer                       2356 non-null object\n",
      "pupper                        2356 non-null object\n",
      "puppo                         2356 non-null object\n",
      "dtypes: datetime64[ns](1), float64(4), int64(3), object(9)\n",
      "memory usage: 313.0+ KB\n"
     ]
    }
   ],
   "source": [
    "timestamp = pd.DataFrame([' '.join(item.split()[0:2]) for item in twitter_archive_copy['timestamp']])\n",
    "twitter_archive_copy[['timestamp']] = pd.to_datetime(timestamp[0],format = '%Y-%m-%d %H:%M:%S')\n",
    "twitter_archive_copy.info()"
   ]
  },
  {
   "cell_type": "markdown",
   "metadata": {},
   "source": [
    "### 2、修改twitter_archive_enhanced和image_predictions的tweet_id数据类型为str"
   ]
  },
  {
   "cell_type": "code",
   "execution_count": 66,
   "metadata": {},
   "outputs": [
    {
     "name": "stdout",
     "output_type": "stream",
     "text": [
      "<class 'pandas.core.frame.DataFrame'>\n",
      "RangeIndex: 2356 entries, 0 to 2355\n",
      "Data columns (total 17 columns):\n",
      "tweet_id                      2356 non-null object\n",
      "in_reply_to_status_id         78 non-null float64\n",
      "in_reply_to_user_id           78 non-null float64\n",
      "timestamp                     2356 non-null datetime64[ns]\n",
      "source                        2356 non-null object\n",
      "text                          2356 non-null object\n",
      "retweeted_status_id           181 non-null float64\n",
      "retweeted_status_user_id      181 non-null float64\n",
      "retweeted_status_timestamp    181 non-null object\n",
      "expanded_urls                 2297 non-null object\n",
      "rating_numerator              2356 non-null int64\n",
      "rating_denominator            2356 non-null int64\n",
      "name                          2356 non-null object\n",
      "doggo                         2356 non-null object\n",
      "floofer                       2356 non-null object\n",
      "pupper                        2356 non-null object\n",
      "puppo                         2356 non-null object\n",
      "dtypes: datetime64[ns](1), float64(4), int64(2), object(10)\n",
      "memory usage: 313.0+ KB\n"
     ]
    }
   ],
   "source": [
    "twitter_archive_copy[['tweet_id']] = twitter_archive_copy[['tweet_id']].astype(str)\n",
    "twitter_archive_copy.info()"
   ]
  },
  {
   "cell_type": "code",
   "execution_count": 67,
   "metadata": {},
   "outputs": [
    {
     "name": "stdout",
     "output_type": "stream",
     "text": [
      "<class 'pandas.core.frame.DataFrame'>\n",
      "Int64Index: 2009 entries, 0 to 2074\n",
      "Data columns (total 12 columns):\n",
      "tweet_id    2009 non-null int64\n",
      "jpg_url     2009 non-null object\n",
      "img_num     2009 non-null int64\n",
      "p1          2009 non-null object\n",
      "p1_conf     2009 non-null float64\n",
      "p1_dog      2009 non-null bool\n",
      "p2          2009 non-null object\n",
      "p2_conf     2009 non-null float64\n",
      "p2_dog      2009 non-null bool\n",
      "p3          2009 non-null object\n",
      "p3_conf     2009 non-null float64\n",
      "p3_dog      2009 non-null bool\n",
      "dtypes: bool(3), float64(3), int64(2), object(4)\n",
      "memory usage: 162.8+ KB\n"
     ]
    }
   ],
   "source": [
    "image_predictions_copy.info()"
   ]
  },
  {
   "cell_type": "code",
   "execution_count": 68,
   "metadata": {},
   "outputs": [
    {
     "name": "stdout",
     "output_type": "stream",
     "text": [
      "<class 'pandas.core.frame.DataFrame'>\n",
      "Int64Index: 2009 entries, 0 to 2074\n",
      "Data columns (total 12 columns):\n",
      "tweet_id    2009 non-null object\n",
      "jpg_url     2009 non-null object\n",
      "img_num     2009 non-null int64\n",
      "p1          2009 non-null object\n",
      "p1_conf     2009 non-null float64\n",
      "p1_dog      2009 non-null bool\n",
      "p2          2009 non-null object\n",
      "p2_conf     2009 non-null float64\n",
      "p2_dog      2009 non-null bool\n",
      "p3          2009 non-null object\n",
      "p3_conf     2009 non-null float64\n",
      "p3_dog      2009 non-null bool\n",
      "dtypes: bool(3), float64(3), int64(1), object(5)\n",
      "memory usage: 162.8+ KB\n"
     ]
    }
   ],
   "source": [
    "image_predictions_copy[['tweet_id']] = image_predictions_copy[['tweet_id']].astype(str)\n",
    "image_predictions_copy.info()"
   ]
  },
  {
   "cell_type": "markdown",
   "metadata": {},
   "source": [
    "### 3、删除twitter_archive_enhanced中expanded_urls 缺失的数据行"
   ]
  },
  {
   "cell_type": "code",
   "execution_count": 69,
   "metadata": {},
   "outputs": [
    {
     "name": "stdout",
     "output_type": "stream",
     "text": [
      "<class 'pandas.core.frame.DataFrame'>\n",
      "Int64Index: 2297 entries, 0 to 2355\n",
      "Data columns (total 17 columns):\n",
      "tweet_id                      2297 non-null object\n",
      "in_reply_to_status_id         23 non-null float64\n",
      "in_reply_to_user_id           23 non-null float64\n",
      "timestamp                     2297 non-null datetime64[ns]\n",
      "source                        2297 non-null object\n",
      "text                          2297 non-null object\n",
      "retweeted_status_id           180 non-null float64\n",
      "retweeted_status_user_id      180 non-null float64\n",
      "retweeted_status_timestamp    180 non-null object\n",
      "expanded_urls                 2297 non-null object\n",
      "rating_numerator              2297 non-null int64\n",
      "rating_denominator            2297 non-null int64\n",
      "name                          2297 non-null object\n",
      "doggo                         2297 non-null object\n",
      "floofer                       2297 non-null object\n",
      "pupper                        2297 non-null object\n",
      "puppo                         2297 non-null object\n",
      "dtypes: datetime64[ns](1), float64(4), int64(2), object(10)\n",
      "memory usage: 323.0+ KB\n"
     ]
    }
   ],
   "source": [
    "twitter_archive_copy = twitter_archive_copy.loc[twitter_archive_copy.expanded_urls.notnull()]\n",
    "twitter_archive_copy.info()"
   ]
  },
  {
   "cell_type": "markdown",
   "metadata": {},
   "source": [
    "### 4、twitter_archive_enhanced的评分分母不全为10，应该从text文档中重新提取\n",
    "### 整合'rating_numerator','rating_denominator'为‘rating’"
   ]
  },
  {
   "cell_type": "code",
   "execution_count": 70,
   "metadata": {},
   "outputs": [
    {
     "data": {
      "text/html": [
       "<div>\n",
       "<style scoped>\n",
       "    .dataframe tbody tr th:only-of-type {\n",
       "        vertical-align: middle;\n",
       "    }\n",
       "\n",
       "    .dataframe tbody tr th {\n",
       "        vertical-align: top;\n",
       "    }\n",
       "\n",
       "    .dataframe thead th {\n",
       "        text-align: right;\n",
       "    }\n",
       "</style>\n",
       "<table border=\"1\" class=\"dataframe\">\n",
       "  <thead>\n",
       "    <tr style=\"text-align: right;\">\n",
       "      <th></th>\n",
       "      <th>tweet_id</th>\n",
       "      <th>text</th>\n",
       "      <th>rating_numerator</th>\n",
       "      <th>rating_denominator</th>\n",
       "    </tr>\n",
       "  </thead>\n",
       "  <tbody>\n",
       "    <tr>\n",
       "      <th>433</th>\n",
       "      <td>820690176645140481</td>\n",
       "      <td>The floofs have been released I repeat the flo...</td>\n",
       "      <td>84</td>\n",
       "      <td>70</td>\n",
       "    </tr>\n",
       "    <tr>\n",
       "      <th>516</th>\n",
       "      <td>810984652412424192</td>\n",
       "      <td>Meet Sam. She smiles 24/7 &amp;amp; secretly aspir...</td>\n",
       "      <td>24</td>\n",
       "      <td>7</td>\n",
       "    </tr>\n",
       "    <tr>\n",
       "      <th>784</th>\n",
       "      <td>775096608509886464</td>\n",
       "      <td>RT @dog_rates: After so many requests, this is...</td>\n",
       "      <td>9</td>\n",
       "      <td>11</td>\n",
       "    </tr>\n",
       "    <tr>\n",
       "      <th>902</th>\n",
       "      <td>758467244762497024</td>\n",
       "      <td>Why does this never happen at my front door......</td>\n",
       "      <td>165</td>\n",
       "      <td>150</td>\n",
       "    </tr>\n",
       "    <tr>\n",
       "      <th>1068</th>\n",
       "      <td>740373189193256964</td>\n",
       "      <td>After so many requests, this is Bretagne. She ...</td>\n",
       "      <td>9</td>\n",
       "      <td>11</td>\n",
       "    </tr>\n",
       "    <tr>\n",
       "      <th>1120</th>\n",
       "      <td>731156023742988288</td>\n",
       "      <td>Say hello to this unbelievably well behaved sq...</td>\n",
       "      <td>204</td>\n",
       "      <td>170</td>\n",
       "    </tr>\n",
       "    <tr>\n",
       "      <th>1165</th>\n",
       "      <td>722974582966214656</td>\n",
       "      <td>Happy 4/20 from the squad! 13/10 for all https...</td>\n",
       "      <td>4</td>\n",
       "      <td>20</td>\n",
       "    </tr>\n",
       "    <tr>\n",
       "      <th>1202</th>\n",
       "      <td>716439118184652801</td>\n",
       "      <td>This is Bluebert. He just saw that both #Final...</td>\n",
       "      <td>50</td>\n",
       "      <td>50</td>\n",
       "    </tr>\n",
       "    <tr>\n",
       "      <th>1228</th>\n",
       "      <td>713900603437621249</td>\n",
       "      <td>Happy Saturday here's 9 puppers on a bench. 99...</td>\n",
       "      <td>99</td>\n",
       "      <td>90</td>\n",
       "    </tr>\n",
       "    <tr>\n",
       "      <th>1254</th>\n",
       "      <td>710658690886586372</td>\n",
       "      <td>Here's a brigade of puppers. All look very pre...</td>\n",
       "      <td>80</td>\n",
       "      <td>80</td>\n",
       "    </tr>\n",
       "    <tr>\n",
       "      <th>1274</th>\n",
       "      <td>709198395643068416</td>\n",
       "      <td>From left to right:\\nCletus, Jerome, Alejandro...</td>\n",
       "      <td>45</td>\n",
       "      <td>50</td>\n",
       "    </tr>\n",
       "    <tr>\n",
       "      <th>1351</th>\n",
       "      <td>704054845121142784</td>\n",
       "      <td>Here is a whole flock of puppers.  60/50 I'll ...</td>\n",
       "      <td>60</td>\n",
       "      <td>50</td>\n",
       "    </tr>\n",
       "    <tr>\n",
       "      <th>1433</th>\n",
       "      <td>697463031882764288</td>\n",
       "      <td>Happy Wednesday here's a bucket of pups. 44/40...</td>\n",
       "      <td>44</td>\n",
       "      <td>40</td>\n",
       "    </tr>\n",
       "    <tr>\n",
       "      <th>1634</th>\n",
       "      <td>684225744407494656</td>\n",
       "      <td>Two sneaky puppers were not initially seen, mo...</td>\n",
       "      <td>143</td>\n",
       "      <td>130</td>\n",
       "    </tr>\n",
       "    <tr>\n",
       "      <th>1635</th>\n",
       "      <td>684222868335505415</td>\n",
       "      <td>Someone help the girl is being mugged. Several...</td>\n",
       "      <td>121</td>\n",
       "      <td>110</td>\n",
       "    </tr>\n",
       "    <tr>\n",
       "      <th>1662</th>\n",
       "      <td>682962037429899265</td>\n",
       "      <td>This is Darrel. He just robbed a 7/11 and is i...</td>\n",
       "      <td>7</td>\n",
       "      <td>11</td>\n",
       "    </tr>\n",
       "    <tr>\n",
       "      <th>1779</th>\n",
       "      <td>677716515794329600</td>\n",
       "      <td>IT'S PUPPERGEDDON. Total of 144/120 ...I think...</td>\n",
       "      <td>144</td>\n",
       "      <td>120</td>\n",
       "    </tr>\n",
       "    <tr>\n",
       "      <th>1843</th>\n",
       "      <td>675853064436391936</td>\n",
       "      <td>Here we have an entire platoon of puppers. Tot...</td>\n",
       "      <td>88</td>\n",
       "      <td>80</td>\n",
       "    </tr>\n",
       "    <tr>\n",
       "      <th>2335</th>\n",
       "      <td>666287406224695296</td>\n",
       "      <td>This is an Albanian 3 1/2 legged  Episcopalian...</td>\n",
       "      <td>1</td>\n",
       "      <td>2</td>\n",
       "    </tr>\n",
       "  </tbody>\n",
       "</table>\n",
       "</div>"
      ],
      "text/plain": [
       "                tweet_id                                               text  \\\n",
       "433   820690176645140481  The floofs have been released I repeat the flo...   \n",
       "516   810984652412424192  Meet Sam. She smiles 24/7 &amp; secretly aspir...   \n",
       "784   775096608509886464  RT @dog_rates: After so many requests, this is...   \n",
       "902   758467244762497024  Why does this never happen at my front door......   \n",
       "1068  740373189193256964  After so many requests, this is Bretagne. She ...   \n",
       "1120  731156023742988288  Say hello to this unbelievably well behaved sq...   \n",
       "1165  722974582966214656  Happy 4/20 from the squad! 13/10 for all https...   \n",
       "1202  716439118184652801  This is Bluebert. He just saw that both #Final...   \n",
       "1228  713900603437621249  Happy Saturday here's 9 puppers on a bench. 99...   \n",
       "1254  710658690886586372  Here's a brigade of puppers. All look very pre...   \n",
       "1274  709198395643068416  From left to right:\\nCletus, Jerome, Alejandro...   \n",
       "1351  704054845121142784  Here is a whole flock of puppers.  60/50 I'll ...   \n",
       "1433  697463031882764288  Happy Wednesday here's a bucket of pups. 44/40...   \n",
       "1634  684225744407494656  Two sneaky puppers were not initially seen, mo...   \n",
       "1635  684222868335505415  Someone help the girl is being mugged. Several...   \n",
       "1662  682962037429899265  This is Darrel. He just robbed a 7/11 and is i...   \n",
       "1779  677716515794329600  IT'S PUPPERGEDDON. Total of 144/120 ...I think...   \n",
       "1843  675853064436391936  Here we have an entire platoon of puppers. Tot...   \n",
       "2335  666287406224695296  This is an Albanian 3 1/2 legged  Episcopalian...   \n",
       "\n",
       "      rating_numerator  rating_denominator  \n",
       "433                 84                  70  \n",
       "516                 24                   7  \n",
       "784                  9                  11  \n",
       "902                165                 150  \n",
       "1068                 9                  11  \n",
       "1120               204                 170  \n",
       "1165                 4                  20  \n",
       "1202                50                  50  \n",
       "1228                99                  90  \n",
       "1254                80                  80  \n",
       "1274                45                  50  \n",
       "1351                60                  50  \n",
       "1433                44                  40  \n",
       "1634               143                 130  \n",
       "1635               121                 110  \n",
       "1662                 7                  11  \n",
       "1779               144                 120  \n",
       "1843                88                  80  \n",
       "2335                 1                   2  "
      ]
     },
     "execution_count": 70,
     "metadata": {},
     "output_type": "execute_result"
    }
   ],
   "source": [
    "# 查看评分分母不为10的数据行\n",
    "twitter_archive_copy.loc[twitter_archive_copy.rating_denominator!=10,['tweet_id','text','rating_numerator','rating_denominator']]"
   ]
  },
  {
   "cell_type": "code",
   "execution_count": 71,
   "metadata": {},
   "outputs": [
    {
     "data": {
      "text/html": [
       "<div>\n",
       "<style scoped>\n",
       "    .dataframe tbody tr th:only-of-type {\n",
       "        vertical-align: middle;\n",
       "    }\n",
       "\n",
       "    .dataframe tbody tr th {\n",
       "        vertical-align: top;\n",
       "    }\n",
       "\n",
       "    .dataframe thead th {\n",
       "        text-align: right;\n",
       "    }\n",
       "</style>\n",
       "<table border=\"1\" class=\"dataframe\">\n",
       "  <thead>\n",
       "    <tr style=\"text-align: right;\">\n",
       "      <th></th>\n",
       "      <th>tweet_id</th>\n",
       "      <th>text</th>\n",
       "      <th>rating_numerator</th>\n",
       "      <th>rating_denominator</th>\n",
       "    </tr>\n",
       "  </thead>\n",
       "  <tbody>\n",
       "    <tr>\n",
       "      <th>784</th>\n",
       "      <td>775096608509886464</td>\n",
       "      <td>RT @dog_rates: After so many requests, this is...</td>\n",
       "      <td>14</td>\n",
       "      <td>10</td>\n",
       "    </tr>\n",
       "    <tr>\n",
       "      <th>1068</th>\n",
       "      <td>740373189193256964</td>\n",
       "      <td>After so many requests, this is Bretagne. She ...</td>\n",
       "      <td>14</td>\n",
       "      <td>10</td>\n",
       "    </tr>\n",
       "    <tr>\n",
       "      <th>1165</th>\n",
       "      <td>722974582966214656</td>\n",
       "      <td>Happy 4/20 from the squad! 13/10 for all https...</td>\n",
       "      <td>13</td>\n",
       "      <td>10</td>\n",
       "    </tr>\n",
       "    <tr>\n",
       "      <th>1202</th>\n",
       "      <td>716439118184652801</td>\n",
       "      <td>This is Bluebert. He just saw that both #Final...</td>\n",
       "      <td>11</td>\n",
       "      <td>10</td>\n",
       "    </tr>\n",
       "    <tr>\n",
       "      <th>1662</th>\n",
       "      <td>682962037429899265</td>\n",
       "      <td>This is Darrel. He just robbed a 7/11 and is i...</td>\n",
       "      <td>10</td>\n",
       "      <td>10</td>\n",
       "    </tr>\n",
       "    <tr>\n",
       "      <th>2335</th>\n",
       "      <td>666287406224695296</td>\n",
       "      <td>This is an Albanian 3 1/2 legged  Episcopalian...</td>\n",
       "      <td>9</td>\n",
       "      <td>10</td>\n",
       "    </tr>\n",
       "  </tbody>\n",
       "</table>\n",
       "</div>"
      ],
      "text/plain": [
       "                tweet_id                                               text  \\\n",
       "784   775096608509886464  RT @dog_rates: After so many requests, this is...   \n",
       "1068  740373189193256964  After so many requests, this is Bretagne. She ...   \n",
       "1165  722974582966214656  Happy 4/20 from the squad! 13/10 for all https...   \n",
       "1202  716439118184652801  This is Bluebert. He just saw that both #Final...   \n",
       "1662  682962037429899265  This is Darrel. He just robbed a 7/11 and is i...   \n",
       "2335  666287406224695296  This is an Albanian 3 1/2 legged  Episcopalian...   \n",
       "\n",
       "      rating_numerator  rating_denominator  \n",
       "784                 14                  10  \n",
       "1068                14                  10  \n",
       "1165                13                  10  \n",
       "1202                11                  10  \n",
       "1662                10                  10  \n",
       "2335                 9                  10  "
      ]
     },
     "execution_count": 71,
     "metadata": {},
     "output_type": "execute_result"
    }
   ],
   "source": [
    "#人工识别部分信息（分子、分母）\n",
    "denominator_dict={\n",
    "    784:[14,10],\n",
    "    1068:[14,10],\n",
    "    1165:[13,10],\n",
    "    1202:[11,10],\n",
    "    1662:[10,10],\n",
    "    2335:[9,10]\n",
    "}\n",
    "for key,value in denominator_dict.items():\n",
    "    twitter_archive_copy.loc[key,['rating_numerator','rating_denominator']] = denominator_dict[key]\n",
    "\n",
    "twitter_archive_copy.loc[denominator_dict.keys(),['tweet_id','text','rating_numerator','rating_denominator']]"
   ]
  },
  {
   "cell_type": "code",
   "execution_count": 72,
   "metadata": {},
   "outputs": [
    {
     "name": "stdout",
     "output_type": "stream",
     "text": [
      "<class 'pandas.core.frame.DataFrame'>\n",
      "Int64Index: 2297 entries, 0 to 2355\n",
      "Data columns (total 18 columns):\n",
      "tweet_id                      2297 non-null object\n",
      "in_reply_to_status_id         23 non-null float64\n",
      "in_reply_to_user_id           23 non-null float64\n",
      "timestamp                     2297 non-null datetime64[ns]\n",
      "source                        2297 non-null object\n",
      "text                          2297 non-null object\n",
      "retweeted_status_id           180 non-null float64\n",
      "retweeted_status_user_id      180 non-null float64\n",
      "retweeted_status_timestamp    180 non-null object\n",
      "expanded_urls                 2297 non-null object\n",
      "rating_numerator              2297 non-null int64\n",
      "rating_denominator            2297 non-null int64\n",
      "name                          2297 non-null object\n",
      "doggo                         2297 non-null object\n",
      "floofer                       2297 non-null object\n",
      "pupper                        2297 non-null object\n",
      "puppo                         2297 non-null object\n",
      "rating                        2297 non-null float64\n",
      "dtypes: datetime64[ns](1), float64(5), int64(2), object(10)\n",
      "memory usage: 421.0+ KB\n"
     ]
    }
   ],
   "source": [
    "#整合rating_numerator&rating_denominator为一个列属性rating\n",
    "twitter_archive_copy['rating'] = twitter_archive_copy['rating_numerator']/twitter_archive_copy['rating_denominator']\n",
    "twitter_archive_copy.info()"
   ]
  },
  {
   "cell_type": "code",
   "execution_count": 73,
   "metadata": {},
   "outputs": [
    {
     "name": "stdout",
     "output_type": "stream",
     "text": [
      "<class 'pandas.core.frame.DataFrame'>\n",
      "Int64Index: 2297 entries, 0 to 2355\n",
      "Data columns (total 16 columns):\n",
      "tweet_id                      2297 non-null object\n",
      "in_reply_to_status_id         23 non-null float64\n",
      "in_reply_to_user_id           23 non-null float64\n",
      "timestamp                     2297 non-null datetime64[ns]\n",
      "source                        2297 non-null object\n",
      "text                          2297 non-null object\n",
      "retweeted_status_id           180 non-null float64\n",
      "retweeted_status_user_id      180 non-null float64\n",
      "retweeted_status_timestamp    180 non-null object\n",
      "expanded_urls                 2297 non-null object\n",
      "name                          2297 non-null object\n",
      "doggo                         2297 non-null object\n",
      "floofer                       2297 non-null object\n",
      "pupper                        2297 non-null object\n",
      "puppo                         2297 non-null object\n",
      "rating                        2297 non-null float64\n",
      "dtypes: datetime64[ns](1), float64(5), object(10)\n",
      "memory usage: 385.1+ KB\n"
     ]
    }
   ],
   "source": [
    "# 删除多余的整合rating_numerator&rating_denominator属性\n",
    "twitter_archive_copy.drop(['rating_numerator','rating_denominator'],axis =1,inplace=True)\n",
    "twitter_archive_copy.info()"
   ]
  },
  {
   "cell_type": "markdown",
   "metadata": {},
   "source": [
    "### 5、twitter_archive_enhanced的狗狗成长阶段类型较多缺失值，还存在部分重复\n",
    "### 整合多个狗狗成长阶段类型为一个‘stage’属性"
   ]
  },
  {
   "cell_type": "code",
   "execution_count": 74,
   "metadata": {},
   "outputs": [
    {
     "data": {
      "text/html": [
       "<div>\n",
       "<style scoped>\n",
       "    .dataframe tbody tr th:only-of-type {\n",
       "        vertical-align: middle;\n",
       "    }\n",
       "\n",
       "    .dataframe tbody tr th {\n",
       "        vertical-align: top;\n",
       "    }\n",
       "\n",
       "    .dataframe thead th {\n",
       "        text-align: right;\n",
       "    }\n",
       "</style>\n",
       "<table border=\"1\" class=\"dataframe\">\n",
       "  <thead>\n",
       "    <tr style=\"text-align: right;\">\n",
       "      <th></th>\n",
       "      <th>tweet_id</th>\n",
       "      <th>doggo</th>\n",
       "      <th>floofer</th>\n",
       "      <th>pupper</th>\n",
       "      <th>puppo</th>\n",
       "    </tr>\n",
       "  </thead>\n",
       "  <tbody>\n",
       "    <tr>\n",
       "      <th>2351</th>\n",
       "      <td>666049248165822465</td>\n",
       "      <td>None</td>\n",
       "      <td>None</td>\n",
       "      <td>None</td>\n",
       "      <td>None</td>\n",
       "    </tr>\n",
       "    <tr>\n",
       "      <th>2352</th>\n",
       "      <td>666044226329800704</td>\n",
       "      <td>None</td>\n",
       "      <td>None</td>\n",
       "      <td>None</td>\n",
       "      <td>None</td>\n",
       "    </tr>\n",
       "    <tr>\n",
       "      <th>2353</th>\n",
       "      <td>666033412701032449</td>\n",
       "      <td>None</td>\n",
       "      <td>None</td>\n",
       "      <td>None</td>\n",
       "      <td>None</td>\n",
       "    </tr>\n",
       "    <tr>\n",
       "      <th>2354</th>\n",
       "      <td>666029285002620928</td>\n",
       "      <td>None</td>\n",
       "      <td>None</td>\n",
       "      <td>None</td>\n",
       "      <td>None</td>\n",
       "    </tr>\n",
       "    <tr>\n",
       "      <th>2355</th>\n",
       "      <td>666020888022790149</td>\n",
       "      <td>None</td>\n",
       "      <td>None</td>\n",
       "      <td>None</td>\n",
       "      <td>None</td>\n",
       "    </tr>\n",
       "  </tbody>\n",
       "</table>\n",
       "</div>"
      ],
      "text/plain": [
       "                tweet_id doggo floofer pupper puppo\n",
       "2351  666049248165822465  None    None   None  None\n",
       "2352  666044226329800704  None    None   None  None\n",
       "2353  666033412701032449  None    None   None  None\n",
       "2354  666029285002620928  None    None   None  None\n",
       "2355  666020888022790149  None    None   None  None"
      ]
     },
     "execution_count": 74,
     "metadata": {},
     "output_type": "execute_result"
    }
   ],
   "source": [
    "twitter_archive_copy_tmp = twitter_archive_copy[['tweet_id','doggo','floofer','pupper','puppo']]\n",
    "twitter_archive_copy_tmp.tail()"
   ]
  },
  {
   "cell_type": "code",
   "execution_count": 98,
   "metadata": {},
   "outputs": [
    {
     "name": "stdout",
     "output_type": "stream",
     "text": [
      "0             []\n",
      "1             []\n",
      "2             []\n",
      "3             []\n",
      "4             []\n",
      "5             []\n",
      "6             []\n",
      "7             []\n",
      "8             []\n",
      "9        [doggo]\n",
      "10            []\n",
      "11            []\n",
      "12       [puppo]\n",
      "13            []\n",
      "14       [puppo]\n",
      "15            []\n",
      "16            []\n",
      "17            []\n",
      "18            []\n",
      "20            []\n",
      "21            []\n",
      "22            []\n",
      "23            []\n",
      "24            []\n",
      "25            []\n",
      "26            []\n",
      "27            []\n",
      "28            []\n",
      "29      [pupper]\n",
      "31            []\n",
      "          ...   \n",
      "2326          []\n",
      "2327          []\n",
      "2328          []\n",
      "2329          []\n",
      "2330          []\n",
      "2331          []\n",
      "2332          []\n",
      "2333          []\n",
      "2334          []\n",
      "2335          []\n",
      "2336          []\n",
      "2337          []\n",
      "2338          []\n",
      "2339          []\n",
      "2340          []\n",
      "2341          []\n",
      "2342          []\n",
      "2343          []\n",
      "2344          []\n",
      "2345          []\n",
      "2346          []\n",
      "2347          []\n",
      "2348          []\n",
      "2349          []\n",
      "2350          []\n",
      "2351          []\n",
      "2352          []\n",
      "2353          []\n",
      "2354          []\n",
      "2355          []\n",
      "Name: stage, Length: 2117, dtype: object\n"
     ]
    }
   ],
   "source": [
    "#从text属性中重新提取狗狗的成长阶段信息\n",
    "twitter_archive_copy['stage'] = twitter_archive_copy.text.str.lower().str.findall('(doggo|pupper|puppo|floofer)')\n",
    "print(twitter_archive_copy['stage'])\n",
    "twitter_archive_copy['stage'] = twitter_archive_copy['stage'].apply(lambda x: ','.join(set(x)))\n",
    "#twitter_archive_copy['stage'].sample(5)"
   ]
  },
  {
   "cell_type": "markdown",
   "metadata": {},
   "source": [
    "### 函数解释  "
   ]
  },
  {
   "cell_type": "code",
   "execution_count": 76,
   "metadata": {},
   "outputs": [
    {
     "name": "stdout",
     "output_type": "stream",
     "text": [
      "data wangle\n"
     ]
    }
   ],
   "source": [
    "#str.lower()-->实现字符串中所有字符转化为小写表示\n",
    "print('Data Wangle'.lower())"
   ]
  },
  {
   "cell_type": "code",
   "execution_count": 77,
   "metadata": {},
   "outputs": [
    {
     "name": "stdout",
     "output_type": "stream",
     "text": [
      "<class 'set'>\n"
     ]
    }
   ],
   "source": [
    "#set()将一个可迭代对象转换成一个集合对象\n",
    "x = set('wangle')\n",
    "print(type(x))"
   ]
  },
  {
   "cell_type": "code",
   "execution_count": 100,
   "metadata": {},
   "outputs": [
    {
     "data": {
      "text/plain": [
       "'doggo_puppo_pupper_floofer'"
      ]
     },
     "execution_count": 100,
     "metadata": {},
     "output_type": "execute_result"
    }
   ],
   "source": [
    "test_list = ['doggo','floofer','pupper','puppo']#Iterable\n",
    "test_set = set(test_list)\n",
    "set_str = '_'.join(test_set)\n",
    "set_str"
   ]
  },
  {
   "cell_type": "markdown",
   "metadata": {},
   "source": [
    "### ‘stage’清洗逻辑  \n",
    "因为狗狗成长阶段数据存在大量空缺，但发现可以从text属性中从新提取，于是利用findall()正则匹配函数从text中匹配'(doggo|pupper|puppo|floofer)',返回数据类型为list，匹配前需要将text中所有字符转为小写（正则匹配区分大小写），再对‘stage’的每行执行内容list-->set-->str操作（通过','.join(set(x))）实现"
   ]
  },
  {
   "cell_type": "code",
   "execution_count": null,
   "metadata": {},
   "outputs": [],
   "source": []
  },
  {
   "cell_type": "code",
   "execution_count": 27,
   "metadata": {},
   "outputs": [
    {
     "data": {
      "text/plain": [
       "                1854\n",
       "pupper           268\n",
       "doggo             87\n",
       "floof             37\n",
       "puppo             33\n",
       "doggo,pupper      12\n",
       "doggo,floof        3\n",
       "doggo,puppo        2\n",
       "pupper,floof       1\n",
       "Name: stage, dtype: int64"
      ]
     },
     "execution_count": 27,
     "metadata": {},
     "output_type": "execute_result"
    }
   ],
   "source": [
    "twitter_archive_copy['stage'].value_counts()"
   ]
  },
  {
   "cell_type": "code",
   "execution_count": 78,
   "metadata": {},
   "outputs": [
    {
     "data": {
      "text/plain": [
       "pupper           269\n",
       "doggo             89\n",
       "puppo             33\n",
       "doggo,pupper      12\n",
       "floofer            9\n",
       "doggo,puppo        2\n",
       "doggo,floofer      1\n",
       "Name: stage, dtype: int64"
      ]
     },
     "execution_count": 78,
     "metadata": {},
     "output_type": "execute_result"
    }
   ],
   "source": [
    "#依旧存在缺失值，将空值用np.nan替换\n",
    "twitter_archive_copy['stage'] = twitter_archive_copy['stage'].replace('',np.nan)\n",
    "twitter_archive_copy['stage'].value_counts()"
   ]
  },
  {
   "cell_type": "code",
   "execution_count": 29,
   "metadata": {},
   "outputs": [
    {
     "name": "stdout",
     "output_type": "stream",
     "text": [
      "<class 'pandas.core.frame.DataFrame'>\n",
      "Int64Index: 2297 entries, 0 to 2355\n",
      "Data columns (total 13 columns):\n",
      "tweet_id                      2297 non-null object\n",
      "in_reply_to_status_id         23 non-null float64\n",
      "in_reply_to_user_id           23 non-null float64\n",
      "timestamp                     2297 non-null datetime64[ns]\n",
      "source                        2297 non-null object\n",
      "text                          2297 non-null object\n",
      "retweeted_status_id           180 non-null float64\n",
      "retweeted_status_user_id      180 non-null float64\n",
      "retweeted_status_timestamp    180 non-null object\n",
      "expanded_urls                 2297 non-null object\n",
      "name                          2297 non-null object\n",
      "rating                        2297 non-null float64\n",
      "stage                         443 non-null object\n",
      "dtypes: datetime64[ns](1), float64(5), object(7)\n",
      "memory usage: 331.2+ KB\n"
     ]
    }
   ],
   "source": [
    "#删除多余的'doggo','floofer','pupper','puppo'属性\n",
    "twitter_archive_copy.drop(twitter_archive_copy[['doggo','floofer','pupper','puppo']],axis=1,inplace=True)\n",
    "twitter_archive_copy.info()"
   ]
  },
  {
   "cell_type": "markdown",
   "metadata": {},
   "source": [
    "### 6、修改twitter_archive_enhanced中错误的name属性值"
   ]
  },
  {
   "cell_type": "code",
   "execution_count": 79,
   "metadata": {
    "scrolled": true
   },
   "outputs": [
    {
     "data": {
      "text/plain": [
       "None          686\n",
       "a              55\n",
       "Charlie        12\n",
       "Cooper         11\n",
       "Lucy           11\n",
       "Oliver         11\n",
       "Lola           10\n",
       "Penny          10\n",
       "Tucker         10\n",
       "Bo              9\n",
       "Winston         9\n",
       "Sadie           8\n",
       "the             8\n",
       "Buddy           7\n",
       "Bailey          7\n",
       "Daisy           7\n",
       "an              7\n",
       "Toby            7\n",
       "Leo             6\n",
       "Bella           6\n",
       "Rusty           6\n",
       "Jack            6\n",
       "Koda            6\n",
       "Stanley         6\n",
       "Dave            6\n",
       "Scout           6\n",
       "Milo            6\n",
       "Jax             6\n",
       "Oscar           6\n",
       "Phil            5\n",
       "             ... \n",
       "Joey            1\n",
       "Major           1\n",
       "Jimbo           1\n",
       "Grey            1\n",
       "Todo            1\n",
       "Al              1\n",
       "Perry           1\n",
       "Monty           1\n",
       "Brady           1\n",
       "Stu             1\n",
       "Mollie          1\n",
       "Norman          1\n",
       "Georgie         1\n",
       "Ralpher         1\n",
       "Stormy          1\n",
       "Bobble          1\n",
       "Humphrey        1\n",
       "Jonah           1\n",
       "Aubie           1\n",
       "such            1\n",
       "Strudel         1\n",
       "Howie           1\n",
       "Tito            1\n",
       "Karll           1\n",
       "officially      1\n",
       "Harvey          1\n",
       "Scott           1\n",
       "Dook            1\n",
       "Jarod           1\n",
       "Harlso          1\n",
       "Name: name, Length: 957, dtype: int64"
      ]
     },
     "execution_count": 79,
     "metadata": {},
     "output_type": "execute_result"
    }
   ],
   "source": [
    "twitter_archive_copy['name'].value_counts()"
   ]
  },
  {
   "cell_type": "code",
   "execution_count": 31,
   "metadata": {},
   "outputs": [
    {
     "data": {
      "text/plain": [
       "Charlie       12\n",
       "Lucy          11\n",
       "Cooper        11\n",
       "Oliver        11\n",
       "Lola          10\n",
       "Tucker        10\n",
       "Penny         10\n",
       "Bo             9\n",
       "Winston        9\n",
       "Sadie          8\n",
       "Daisy          7\n",
       "Bailey         7\n",
       "Buddy          7\n",
       "Toby           7\n",
       "Leo            6\n",
       "Milo           6\n",
       "Rusty          6\n",
       "Jax            6\n",
       "Dave           6\n",
       "Stanley        6\n",
       "Scout          6\n",
       "Koda           6\n",
       "Oscar          6\n",
       "Bella          6\n",
       "Jack           6\n",
       "Alfie          5\n",
       "Gus            5\n",
       "Phil           5\n",
       "Finn           5\n",
       "very           5\n",
       "              ..\n",
       "Major          1\n",
       "Jimbo          1\n",
       "Grey           1\n",
       "Todo           1\n",
       "Lugan          1\n",
       "Willem         1\n",
       "Kloey          1\n",
       "Al             1\n",
       "Strudel        1\n",
       "Norman         1\n",
       "Georgie        1\n",
       "Ralpher        1\n",
       "Stormy         1\n",
       "Bobble         1\n",
       "Humphrey       1\n",
       "Jonah          1\n",
       "Brady          1\n",
       "Aubie          1\n",
       "Howie          1\n",
       "Perry          1\n",
       "Tito           1\n",
       "Karll          1\n",
       "officially     1\n",
       "Harvey         1\n",
       "Scott          1\n",
       "Dook           1\n",
       "Jarod          1\n",
       "such           1\n",
       "Monty          1\n",
       "Bertson        1\n",
       "Name: name, Length: 953, dtype: int64"
      ]
     },
     "execution_count": 31,
     "metadata": {},
     "output_type": "execute_result"
    }
   ],
   "source": [
    "#从text中重新提取当前name为'a','the','an','None'的\n",
    "name_part = ['a','the','an','None']\n",
    "for name in name_part:\n",
    "    twitter_archive_copy['name'] = twitter_archive_copy['name'].replace(name,np.nan)\n",
    "twitter_archive_copy['name'].value_counts()"
   ]
  },
  {
   "cell_type": "code",
   "execution_count": 71,
   "metadata": {},
   "outputs": [
    {
     "name": "stdout",
     "output_type": "stream",
     "text": [
      "<class 'pandas.core.frame.DataFrame'>\n",
      "Int64Index: 2297 entries, 0 to 2355\n",
      "Data columns (total 13 columns):\n",
      "tweet_id                      2297 non-null object\n",
      "in_reply_to_status_id         23 non-null float64\n",
      "in_reply_to_user_id           23 non-null float64\n",
      "timestamp                     2297 non-null datetime64[ns]\n",
      "source                        2297 non-null object\n",
      "text                          2297 non-null object\n",
      "retweeted_status_id           180 non-null float64\n",
      "retweeted_status_user_id      180 non-null float64\n",
      "retweeted_status_timestamp    180 non-null object\n",
      "expanded_urls                 2297 non-null object\n",
      "name                          1541 non-null object\n",
      "rating                        2297 non-null float64\n",
      "stage                         443 non-null object\n",
      "dtypes: datetime64[ns](1), float64(5), object(7)\n",
      "memory usage: 331.2+ KB\n"
     ]
    }
   ],
   "source": [
    "twitter_archive_copy.info()"
   ]
  },
  {
   "cell_type": "markdown",
   "metadata": {},
   "source": [
    "### 7、删除image_predictions中的jpg_url属性存在重复的记录"
   ]
  },
  {
   "cell_type": "code",
   "execution_count": 32,
   "metadata": {},
   "outputs": [
    {
     "name": "stdout",
     "output_type": "stream",
     "text": [
      "<class 'pandas.core.frame.DataFrame'>\n",
      "RangeIndex: 2075 entries, 0 to 2074\n",
      "Data columns (total 12 columns):\n",
      "tweet_id    2075 non-null int64\n",
      "jpg_url     2075 non-null object\n",
      "img_num     2075 non-null int64\n",
      "p1          2075 non-null object\n",
      "p1_conf     2075 non-null float64\n",
      "p1_dog      2075 non-null bool\n",
      "p2          2075 non-null object\n",
      "p2_conf     2075 non-null float64\n",
      "p2_dog      2075 non-null bool\n",
      "p3          2075 non-null object\n",
      "p3_conf     2075 non-null float64\n",
      "p3_dog      2075 non-null bool\n",
      "dtypes: bool(3), float64(3), int64(2), object(4)\n",
      "memory usage: 152.1+ KB\n"
     ]
    }
   ],
   "source": [
    "image_predictions.info()"
   ]
  },
  {
   "cell_type": "code",
   "execution_count": 80,
   "metadata": {},
   "outputs": [
    {
     "name": "stdout",
     "output_type": "stream",
     "text": [
      "<class 'pandas.core.frame.DataFrame'>\n",
      "Int64Index: 2009 entries, 0 to 2074\n",
      "Data columns (total 12 columns):\n",
      "tweet_id    2009 non-null int64\n",
      "jpg_url     2009 non-null object\n",
      "img_num     2009 non-null int64\n",
      "p1          2009 non-null object\n",
      "p1_conf     2009 non-null float64\n",
      "p1_dog      2009 non-null bool\n",
      "p2          2009 non-null object\n",
      "p2_conf     2009 non-null float64\n",
      "p2_dog      2009 non-null bool\n",
      "p3          2009 non-null object\n",
      "p3_conf     2009 non-null float64\n",
      "p3_dog      2009 non-null bool\n",
      "dtypes: bool(3), float64(3), int64(2), object(4)\n",
      "memory usage: 162.8+ KB\n"
     ]
    }
   ],
   "source": [
    "image_predictions.drop_duplicates('jpg_url',inplace = True)\n",
    "image_predictions.info()"
   ]
  },
  {
   "cell_type": "code",
   "execution_count": 34,
   "metadata": {},
   "outputs": [
    {
     "data": {
      "text/plain": [
       "0"
      ]
     },
     "execution_count": 34,
     "metadata": {},
     "output_type": "execute_result"
    }
   ],
   "source": [
    "sum(image_predictions.jpg_url.duplicated())"
   ]
  },
  {
   "cell_type": "markdown",
   "metadata": {},
   "source": [
    "### 8、删除因转发产生的数据信息"
   ]
  },
  {
   "cell_type": "code",
   "execution_count": 81,
   "metadata": {},
   "outputs": [
    {
     "data": {
      "text/plain": [
       "False    2117\n",
       "True      180\n",
       "Name: retweeted_status_id, dtype: int64"
      ]
     },
     "execution_count": 81,
     "metadata": {},
     "output_type": "execute_result"
    }
   ],
   "source": [
    "twitter_archive_copy['retweeted_status_id'].notnull().value_counts()"
   ]
  },
  {
   "cell_type": "code",
   "execution_count": 82,
   "metadata": {},
   "outputs": [
    {
     "name": "stdout",
     "output_type": "stream",
     "text": [
      "<class 'pandas.core.frame.DataFrame'>\n",
      "Int64Index: 2117 entries, 0 to 2355\n",
      "Data columns (total 17 columns):\n",
      "tweet_id                      2117 non-null object\n",
      "in_reply_to_status_id         23 non-null float64\n",
      "in_reply_to_user_id           23 non-null float64\n",
      "timestamp                     2117 non-null datetime64[ns]\n",
      "source                        2117 non-null object\n",
      "text                          2117 non-null object\n",
      "retweeted_status_id           0 non-null float64\n",
      "retweeted_status_user_id      0 non-null float64\n",
      "retweeted_status_timestamp    0 non-null object\n",
      "expanded_urls                 2117 non-null object\n",
      "name                          2117 non-null object\n",
      "doggo                         2117 non-null object\n",
      "floofer                       2117 non-null object\n",
      "pupper                        2117 non-null object\n",
      "puppo                         2117 non-null object\n",
      "rating                        2117 non-null float64\n",
      "stage                         377 non-null object\n",
      "dtypes: datetime64[ns](1), float64(5), object(11)\n",
      "memory usage: 297.7+ KB\n"
     ]
    }
   ],
   "source": [
    "#删除转发产生的数据行\n",
    "twitter_archive_copy = twitter_archive_copy[twitter_archive_copy['retweeted_status_id'].isnull()]\n",
    "twitter_archive_copy.info()"
   ]
  },
  {
   "cell_type": "markdown",
   "metadata": {},
   "source": [
    "### 9、删除相关转发、回复属性行"
   ]
  },
  {
   "cell_type": "code",
   "execution_count": 83,
   "metadata": {},
   "outputs": [
    {
     "name": "stdout",
     "output_type": "stream",
     "text": [
      "<class 'pandas.core.frame.DataFrame'>\n",
      "Int64Index: 2117 entries, 0 to 2355\n",
      "Data columns (total 14 columns):\n",
      "tweet_id                 2117 non-null object\n",
      "in_reply_to_status_id    23 non-null float64\n",
      "in_reply_to_user_id      23 non-null float64\n",
      "timestamp                2117 non-null datetime64[ns]\n",
      "source                   2117 non-null object\n",
      "text                     2117 non-null object\n",
      "expanded_urls            2117 non-null object\n",
      "name                     2117 non-null object\n",
      "doggo                    2117 non-null object\n",
      "floofer                  2117 non-null object\n",
      "pupper                   2117 non-null object\n",
      "puppo                    2117 non-null object\n",
      "rating                   2117 non-null float64\n",
      "stage                    377 non-null object\n",
      "dtypes: datetime64[ns](1), float64(3), object(10)\n",
      "memory usage: 248.1+ KB\n"
     ]
    }
   ],
   "source": [
    "# 删除转发相关的属性\n",
    "twitter_archive_copy.drop(twitter_archive_copy[['retweeted_status_id', 'retweeted_status_user_id', 'retweeted_status_timestamp']],axis =1,inplace = True)\n",
    "twitter_archive_copy.info()"
   ]
  },
  {
   "cell_type": "code",
   "execution_count": 84,
   "metadata": {},
   "outputs": [
    {
     "name": "stdout",
     "output_type": "stream",
     "text": [
      "<class 'pandas.core.frame.DataFrame'>\n",
      "Int64Index: 2117 entries, 0 to 2355\n",
      "Data columns (total 12 columns):\n",
      "tweet_id         2117 non-null object\n",
      "timestamp        2117 non-null datetime64[ns]\n",
      "source           2117 non-null object\n",
      "text             2117 non-null object\n",
      "expanded_urls    2117 non-null object\n",
      "name             2117 non-null object\n",
      "doggo            2117 non-null object\n",
      "floofer          2117 non-null object\n",
      "pupper           2117 non-null object\n",
      "puppo            2117 non-null object\n",
      "rating           2117 non-null float64\n",
      "stage            377 non-null object\n",
      "dtypes: datetime64[ns](1), float64(1), object(10)\n",
      "memory usage: 215.0+ KB\n"
     ]
    }
   ],
   "source": [
    "# 删除相关回复属性\n",
    "twitter_archive_copy.drop(twitter_archive_copy[['in_reply_to_status_id', 'in_reply_to_user_id']],axis =1,inplace = True)\n",
    "twitter_archive_copy.info()"
   ]
  },
  {
   "cell_type": "markdown",
   "metadata": {},
   "source": [
    "### 10、合并三个数据片段，并保存"
   ]
  },
  {
   "cell_type": "code",
   "execution_count": 85,
   "metadata": {},
   "outputs": [
    {
     "name": "stdout",
     "output_type": "stream",
     "text": [
      "<class 'pandas.core.frame.DataFrame'>\n",
      "Int64Index: 2117 entries, 0 to 2355\n",
      "Data columns (total 12 columns):\n",
      "tweet_id         2117 non-null object\n",
      "timestamp        2117 non-null datetime64[ns]\n",
      "source           2117 non-null object\n",
      "text             2117 non-null object\n",
      "expanded_urls    2117 non-null object\n",
      "name             2117 non-null object\n",
      "doggo            2117 non-null object\n",
      "floofer          2117 non-null object\n",
      "pupper           2117 non-null object\n",
      "puppo            2117 non-null object\n",
      "rating           2117 non-null float64\n",
      "stage            377 non-null object\n",
      "dtypes: datetime64[ns](1), float64(1), object(10)\n",
      "memory usage: 215.0+ KB\n"
     ]
    }
   ],
   "source": [
    "twitter_archive_copy.info()"
   ]
  },
  {
   "cell_type": "code",
   "execution_count": 86,
   "metadata": {},
   "outputs": [
    {
     "name": "stdout",
     "output_type": "stream",
     "text": [
      "<class 'pandas.core.frame.DataFrame'>\n",
      "Int64Index: 2009 entries, 0 to 2074\n",
      "Data columns (total 12 columns):\n",
      "tweet_id    2009 non-null object\n",
      "jpg_url     2009 non-null object\n",
      "img_num     2009 non-null int64\n",
      "p1          2009 non-null object\n",
      "p1_conf     2009 non-null float64\n",
      "p1_dog      2009 non-null bool\n",
      "p2          2009 non-null object\n",
      "p2_conf     2009 non-null float64\n",
      "p2_dog      2009 non-null bool\n",
      "p3          2009 non-null object\n",
      "p3_conf     2009 non-null float64\n",
      "p3_dog      2009 non-null bool\n",
      "dtypes: bool(3), float64(3), int64(1), object(5)\n",
      "memory usage: 162.8+ KB\n"
     ]
    }
   ],
   "source": [
    "image_predictions_copy.info()"
   ]
  },
  {
   "cell_type": "code",
   "execution_count": 87,
   "metadata": {},
   "outputs": [
    {
     "name": "stdout",
     "output_type": "stream",
     "text": [
      "<class 'pandas.core.frame.DataFrame'>\n",
      "RangeIndex: 2352 entries, 0 to 2351\n",
      "Data columns (total 3 columns):\n",
      "tweet_id          2352 non-null object\n",
      "retweet_count     2352 non-null int64\n",
      "favorite_count    2352 non-null int64\n",
      "dtypes: int64(2), object(1)\n",
      "memory usage: 55.2+ KB\n"
     ]
    }
   ],
   "source": [
    "tweet_copy.info()"
   ]
  },
  {
   "cell_type": "code",
   "execution_count": 88,
   "metadata": {},
   "outputs": [
    {
     "name": "stdout",
     "output_type": "stream",
     "text": [
      "<class 'pandas.core.frame.DataFrame'>\n",
      "Int64Index: 1994 entries, 0 to 1993\n",
      "Data columns (total 25 columns):\n",
      "tweet_id          1994 non-null object\n",
      "timestamp         1994 non-null datetime64[ns]\n",
      "source            1994 non-null object\n",
      "text              1994 non-null object\n",
      "expanded_urls     1994 non-null object\n",
      "name              1994 non-null object\n",
      "doggo             1994 non-null object\n",
      "floofer           1994 non-null object\n",
      "pupper            1994 non-null object\n",
      "puppo             1994 non-null object\n",
      "rating            1994 non-null float64\n",
      "stage             342 non-null object\n",
      "jpg_url           1994 non-null object\n",
      "img_num           1994 non-null int64\n",
      "p1                1994 non-null object\n",
      "p1_conf           1994 non-null float64\n",
      "p1_dog            1994 non-null bool\n",
      "p2                1994 non-null object\n",
      "p2_conf           1994 non-null float64\n",
      "p2_dog            1994 non-null bool\n",
      "p3                1994 non-null object\n",
      "p3_conf           1994 non-null float64\n",
      "p3_dog            1994 non-null bool\n",
      "retweet_count     1994 non-null int64\n",
      "favorite_count    1994 non-null int64\n",
      "dtypes: bool(3), datetime64[ns](1), float64(4), int64(3), object(14)\n",
      "memory usage: 364.1+ KB\n"
     ]
    }
   ],
   "source": [
    "# 合并数据集\n",
    "twitter_archive_df = twitter_archive_copy.merge(image_predictions_copy,how= 'inner',on='tweet_id').merge(tweet_copy,how='left',on='tweet_id')\n",
    "twitter_archive_df.info()"
   ]
  },
  {
   "cell_type": "code",
   "execution_count": 43,
   "metadata": {},
   "outputs": [],
   "source": [
    "#保存数据集\n",
    "twitter_archive_df.to_csv('twitter_archive_master.csv', index=False)"
   ]
  },
  {
   "cell_type": "markdown",
   "metadata": {},
   "source": [
    "# 数据分析"
   ]
  },
  {
   "cell_type": "markdown",
   "metadata": {},
   "source": [
    "## 提出问题  "
   ]
  },
  {
   "cell_type": "markdown",
   "metadata": {},
   "source": [
    "### 1、什么类型的狗狗更受欢迎\n",
    "### 2、那个阶段的狗狗占比更高\n",
    "### 3、狗狗的评分是否与转发数与点赞数有关"
   ]
  },
  {
   "cell_type": "markdown",
   "metadata": {},
   "source": [
    "## 问题分析、可视化展示\n",
    "### 1、什么类型的狗狗更受欢迎"
   ]
  },
  {
   "cell_type": "code",
   "execution_count": 117,
   "metadata": {},
   "outputs": [
    {
     "name": "stdout",
     "output_type": "stream",
     "text": [
      "<class 'pandas.core.frame.DataFrame'>\n",
      "RangeIndex: 1994 entries, 0 to 1993\n",
      "Data columns (total 21 columns):\n",
      "tweet_id          1994 non-null int64\n",
      "timestamp         1994 non-null object\n",
      "source            1994 non-null object\n",
      "text              1994 non-null object\n",
      "expanded_urls     1994 non-null object\n",
      "name              1380 non-null object\n",
      "rating            1994 non-null float64\n",
      "stage             369 non-null object\n",
      "jpg_url           1994 non-null object\n",
      "img_num           1994 non-null int64\n",
      "p1                1994 non-null object\n",
      "p1_conf           1994 non-null float64\n",
      "p1_dog            1994 non-null bool\n",
      "p2                1994 non-null object\n",
      "p2_conf           1994 non-null float64\n",
      "p2_dog            1994 non-null bool\n",
      "p3                1994 non-null object\n",
      "p3_conf           1994 non-null float64\n",
      "p3_dog            1994 non-null bool\n",
      "retweet_count     1994 non-null int64\n",
      "favorite_count    1994 non-null int64\n",
      "dtypes: bool(3), float64(4), int64(4), object(10)\n",
      "memory usage: 286.3+ KB\n"
     ]
    }
   ],
   "source": [
    "dog_info_df = pd.read_csv('twitter_archive_master.csv')\n",
    "dog_info_df.info()"
   ]
  },
  {
   "cell_type": "code",
   "execution_count": 118,
   "metadata": {},
   "outputs": [
    {
     "data": {
      "text/html": [
       "<div>\n",
       "<style scoped>\n",
       "    .dataframe tbody tr th:only-of-type {\n",
       "        vertical-align: middle;\n",
       "    }\n",
       "\n",
       "    .dataframe tbody tr th {\n",
       "        vertical-align: top;\n",
       "    }\n",
       "\n",
       "    .dataframe thead th {\n",
       "        text-align: right;\n",
       "    }\n",
       "</style>\n",
       "<table border=\"1\" class=\"dataframe\">\n",
       "  <thead>\n",
       "    <tr style=\"text-align: right;\">\n",
       "      <th></th>\n",
       "      <th>p1</th>\n",
       "      <th>p1_dog</th>\n",
       "      <th>p2</th>\n",
       "      <th>p2_dog</th>\n",
       "      <th>p3</th>\n",
       "      <th>p3_dog</th>\n",
       "      <th>favorite_count</th>\n",
       "    </tr>\n",
       "  </thead>\n",
       "  <tbody>\n",
       "    <tr>\n",
       "      <th>1285</th>\n",
       "      <td>Pomeranian</td>\n",
       "      <td>True</td>\n",
       "      <td>Shetland_sheepdog</td>\n",
       "      <td>True</td>\n",
       "      <td>keeshond</td>\n",
       "      <td>True</td>\n",
       "      <td>2255</td>\n",
       "    </tr>\n",
       "    <tr>\n",
       "      <th>1230</th>\n",
       "      <td>English_springer</td>\n",
       "      <td>True</td>\n",
       "      <td>papillon</td>\n",
       "      <td>True</td>\n",
       "      <td>Welsh_springer_spaniel</td>\n",
       "      <td>True</td>\n",
       "      <td>2225</td>\n",
       "    </tr>\n",
       "    <tr>\n",
       "      <th>1451</th>\n",
       "      <td>Japanese_spaniel</td>\n",
       "      <td>True</td>\n",
       "      <td>Pekinese</td>\n",
       "      <td>True</td>\n",
       "      <td>Chihuahua</td>\n",
       "      <td>True</td>\n",
       "      <td>1355</td>\n",
       "    </tr>\n",
       "    <tr>\n",
       "      <th>1495</th>\n",
       "      <td>pug</td>\n",
       "      <td>True</td>\n",
       "      <td>Boston_bull</td>\n",
       "      <td>True</td>\n",
       "      <td>French_bulldog</td>\n",
       "      <td>True</td>\n",
       "      <td>2460</td>\n",
       "    </tr>\n",
       "    <tr>\n",
       "      <th>1427</th>\n",
       "      <td>dogsled</td>\n",
       "      <td>False</td>\n",
       "      <td>snowmobile</td>\n",
       "      <td>False</td>\n",
       "      <td>Samoyed</td>\n",
       "      <td>True</td>\n",
       "      <td>2641</td>\n",
       "    </tr>\n",
       "  </tbody>\n",
       "</table>\n",
       "</div>"
      ],
      "text/plain": [
       "                    p1  p1_dog                 p2  p2_dog  \\\n",
       "1285        Pomeranian    True  Shetland_sheepdog    True   \n",
       "1230  English_springer    True           papillon    True   \n",
       "1451  Japanese_spaniel    True           Pekinese    True   \n",
       "1495               pug    True        Boston_bull    True   \n",
       "1427           dogsled   False         snowmobile   False   \n",
       "\n",
       "                          p3  p3_dog  favorite_count  \n",
       "1285                keeshond    True            2255  \n",
       "1230  Welsh_springer_spaniel    True            2225  \n",
       "1451               Chihuahua    True            1355  \n",
       "1495          French_bulldog    True            2460  \n",
       "1427                 Samoyed    True            2641  "
      ]
     },
     "execution_count": 118,
     "metadata": {},
     "output_type": "execute_result"
    }
   ],
   "source": [
    "df_varieties=dog_info_df[['p1','p1_dog','p2','p2_dog','p3','p3_dog','favorite_count']]\n",
    "df_varieties.sample(5)"
   ]
  },
  {
   "cell_type": "code",
   "execution_count": 119,
   "metadata": {},
   "outputs": [
    {
     "name": "stderr",
     "output_type": "stream",
     "text": [
      "D:\\ProgramData\\Anaconda3\\lib\\site-packages\\ipykernel_launcher.py:12: SettingWithCopyWarning: \n",
      "A value is trying to be set on a copy of a slice from a DataFrame.\n",
      "Try using .loc[row_indexer,col_indexer] = value instead\n",
      "\n",
      "See the caveats in the documentation: http://pandas.pydata.org/pandas-docs/stable/indexing.html#indexing-view-versus-copy\n",
      "  if sys.path[0] == '':\n"
     ]
    },
    {
     "data": {
      "text/html": [
       "<div>\n",
       "<style scoped>\n",
       "    .dataframe tbody tr th:only-of-type {\n",
       "        vertical-align: middle;\n",
       "    }\n",
       "\n",
       "    .dataframe tbody tr th {\n",
       "        vertical-align: top;\n",
       "    }\n",
       "\n",
       "    .dataframe thead th {\n",
       "        text-align: right;\n",
       "    }\n",
       "</style>\n",
       "<table border=\"1\" class=\"dataframe\">\n",
       "  <thead>\n",
       "    <tr style=\"text-align: right;\">\n",
       "      <th></th>\n",
       "      <th>p1</th>\n",
       "      <th>p1_dog</th>\n",
       "      <th>p2</th>\n",
       "      <th>p2_dog</th>\n",
       "      <th>p3</th>\n",
       "      <th>p3_dog</th>\n",
       "      <th>favorite_count</th>\n",
       "      <th>variety</th>\n",
       "    </tr>\n",
       "  </thead>\n",
       "  <tbody>\n",
       "    <tr>\n",
       "      <th>1701</th>\n",
       "      <td>miniature_poodle</td>\n",
       "      <td>True</td>\n",
       "      <td>toy_poodle</td>\n",
       "      <td>True</td>\n",
       "      <td>Irish_terrier</td>\n",
       "      <td>True</td>\n",
       "      <td>504</td>\n",
       "      <td>miniature_poodle</td>\n",
       "    </tr>\n",
       "    <tr>\n",
       "      <th>1213</th>\n",
       "      <td>Samoyed</td>\n",
       "      <td>True</td>\n",
       "      <td>Great_Pyrenees</td>\n",
       "      <td>True</td>\n",
       "      <td>teddy</td>\n",
       "      <td>False</td>\n",
       "      <td>3995</td>\n",
       "      <td>Samoyed</td>\n",
       "    </tr>\n",
       "    <tr>\n",
       "      <th>726</th>\n",
       "      <td>bow_tie</td>\n",
       "      <td>False</td>\n",
       "      <td>sunglasses</td>\n",
       "      <td>False</td>\n",
       "      <td>sunglass</td>\n",
       "      <td>False</td>\n",
       "      <td>5594</td>\n",
       "      <td>NaN</td>\n",
       "    </tr>\n",
       "    <tr>\n",
       "      <th>464</th>\n",
       "      <td>wire-haired_fox_terrier</td>\n",
       "      <td>True</td>\n",
       "      <td>Lakeland_terrier</td>\n",
       "      <td>True</td>\n",
       "      <td>English_springer</td>\n",
       "      <td>True</td>\n",
       "      <td>10961</td>\n",
       "      <td>wire-haired_fox_terrier</td>\n",
       "    </tr>\n",
       "    <tr>\n",
       "      <th>332</th>\n",
       "      <td>prison</td>\n",
       "      <td>False</td>\n",
       "      <td>palace</td>\n",
       "      <td>False</td>\n",
       "      <td>umbrella</td>\n",
       "      <td>False</td>\n",
       "      <td>49786</td>\n",
       "      <td>NaN</td>\n",
       "    </tr>\n",
       "  </tbody>\n",
       "</table>\n",
       "</div>"
      ],
      "text/plain": [
       "                           p1  p1_dog                p2  p2_dog  \\\n",
       "1701         miniature_poodle    True        toy_poodle    True   \n",
       "1213                  Samoyed    True    Great_Pyrenees    True   \n",
       "726                   bow_tie   False        sunglasses   False   \n",
       "464   wire-haired_fox_terrier    True  Lakeland_terrier    True   \n",
       "332                    prison   False            palace   False   \n",
       "\n",
       "                    p3  p3_dog  favorite_count                  variety  \n",
       "1701     Irish_terrier    True             504         miniature_poodle  \n",
       "1213             teddy   False            3995                  Samoyed  \n",
       "726           sunglass   False            5594                      NaN  \n",
       "464   English_springer    True           10961  wire-haired_fox_terrier  \n",
       "332           umbrella   False           49786                      NaN  "
      ]
     },
     "execution_count": 119,
     "metadata": {},
     "output_type": "execute_result"
    }
   ],
   "source": [
    "#提取所有狗狗的品种(神经网络分析出狗狗属于多个品种，默认取分析出的第一个品种)\n",
    "varieties = []\n",
    "for ind in df_varieties.index:\n",
    "    if df_varieties.loc[ind,'p1_dog'] == True:\n",
    "        varieties.append(df_varieties.loc[ind,'p1'])\n",
    "    elif df_varieties.loc[ind,'p2_dog'] == True:\n",
    "        varieties.append(df_varieties.loc[ind,'p2'])\n",
    "    elif df_varieties.loc[ind,'p2_dog'] == True:\n",
    "        varieties.append(df_varieties.loc[ind,'p3'])\n",
    "    else:\n",
    "        varieties.append(np.nan)\n",
    "df_varieties['variety'] = varieties\n",
    "df_varieties.sample(5)"
   ]
  },
  {
   "cell_type": "code",
   "execution_count": 120,
   "metadata": {},
   "outputs": [
    {
     "name": "stdout",
     "output_type": "stream",
     "text": [
      "<class 'pandas.core.frame.DataFrame'>\n",
      "Int64Index: 1624 entries, 1 to 1993\n",
      "Data columns (total 8 columns):\n",
      "p1                1624 non-null object\n",
      "p1_dog            1624 non-null bool\n",
      "p2                1624 non-null object\n",
      "p2_dog            1624 non-null bool\n",
      "p3                1624 non-null object\n",
      "p3_dog            1624 non-null bool\n",
      "favorite_count    1624 non-null int64\n",
      "variety           1624 non-null object\n",
      "dtypes: bool(3), int64(1), object(4)\n",
      "memory usage: 80.9+ KB\n"
     ]
    }
   ],
   "source": [
    "#删除狗狗品种的缺失值\n",
    "df_varieties = df_varieties[df_varieties['variety'].notnull()]\n",
    "df_varieties.info()"
   ]
  },
  {
   "cell_type": "code",
   "execution_count": 121,
   "metadata": {},
   "outputs": [
    {
     "data": {
      "text/plain": [
       "variety\n",
       "golden_retriever      152\n",
       "Labrador_retriever    105\n",
       "Pembroke               93\n",
       "Chihuahua              90\n",
       "pug                    58\n",
       "Name: favorite_count, dtype: int64"
      ]
     },
     "execution_count": 121,
     "metadata": {},
     "output_type": "execute_result"
    }
   ],
   "source": [
    "#统计受人们喜欢的狗狗品种的前十名\n",
    "varieties_info = df_varieties.groupby('variety')['favorite_count'].size().sort_values(ascending = False).head(10)\n",
    "varieties_info.head()"
   ]
  },
  {
   "cell_type": "code",
   "execution_count": 124,
   "metadata": {},
   "outputs": [
    {
     "data": {
      "text/html": [
       "<div>\n",
       "<style scoped>\n",
       "    .dataframe tbody tr th:only-of-type {\n",
       "        vertical-align: middle;\n",
       "    }\n",
       "\n",
       "    .dataframe tbody tr th {\n",
       "        vertical-align: top;\n",
       "    }\n",
       "\n",
       "    .dataframe thead th {\n",
       "        text-align: right;\n",
       "    }\n",
       "</style>\n",
       "<table border=\"1\" class=\"dataframe\">\n",
       "  <thead>\n",
       "    <tr style=\"text-align: right;\">\n",
       "      <th></th>\n",
       "      <th>variety</th>\n",
       "      <th>favorite_count</th>\n",
       "    </tr>\n",
       "  </thead>\n",
       "  <tbody>\n",
       "    <tr>\n",
       "      <th>0</th>\n",
       "      <td>golden_retriever</td>\n",
       "      <td>152</td>\n",
       "    </tr>\n",
       "    <tr>\n",
       "      <th>1</th>\n",
       "      <td>Labrador_retriever</td>\n",
       "      <td>105</td>\n",
       "    </tr>\n",
       "    <tr>\n",
       "      <th>2</th>\n",
       "      <td>Pembroke</td>\n",
       "      <td>93</td>\n",
       "    </tr>\n",
       "    <tr>\n",
       "      <th>3</th>\n",
       "      <td>Chihuahua</td>\n",
       "      <td>90</td>\n",
       "    </tr>\n",
       "    <tr>\n",
       "      <th>4</th>\n",
       "      <td>pug</td>\n",
       "      <td>58</td>\n",
       "    </tr>\n",
       "    <tr>\n",
       "      <th>5</th>\n",
       "      <td>toy_poodle</td>\n",
       "      <td>47</td>\n",
       "    </tr>\n",
       "    <tr>\n",
       "      <th>6</th>\n",
       "      <td>chow</td>\n",
       "      <td>44</td>\n",
       "    </tr>\n",
       "    <tr>\n",
       "      <th>7</th>\n",
       "      <td>Pomeranian</td>\n",
       "      <td>41</td>\n",
       "    </tr>\n",
       "    <tr>\n",
       "      <th>8</th>\n",
       "      <td>Samoyed</td>\n",
       "      <td>41</td>\n",
       "    </tr>\n",
       "    <tr>\n",
       "      <th>9</th>\n",
       "      <td>French_bulldog</td>\n",
       "      <td>31</td>\n",
       "    </tr>\n",
       "  </tbody>\n",
       "</table>\n",
       "</div>"
      ],
      "text/plain": [
       "              variety  favorite_count\n",
       "0    golden_retriever             152\n",
       "1  Labrador_retriever             105\n",
       "2            Pembroke              93\n",
       "3           Chihuahua              90\n",
       "4                 pug              58\n",
       "5          toy_poodle              47\n",
       "6                chow              44\n",
       "7          Pomeranian              41\n",
       "8             Samoyed              41\n",
       "9      French_bulldog              31"
      ]
     },
     "execution_count": 124,
     "metadata": {},
     "output_type": "execute_result"
    }
   ],
   "source": [
    "varieties_info_dict = {\"variety\":varieties_info.index,\"favorite_count\":varieties_info.values}\n",
    "varieties_info_df = pd.DataFrame(varieties_info_dict)\n",
    "varieties_info_df.head(10)"
   ]
  },
  {
   "cell_type": "code",
   "execution_count": 128,
   "metadata": {},
   "outputs": [
    {
     "data": {
      "image/png": "[encoded data removed]",
      "text/plain": [
       "<Figure size 432x288 with 1 Axes>"
      ]
     },
     "metadata": {},
     "output_type": "display_data"
    }
   ],
   "source": [
    "#可视化展示\n",
    "sns.set_style('whitegrid')\n",
    "sns.barplot(x=varieties_info_df['variety'], y=varieties_info_df['favorite_count'])\n",
    "plt.title('Favorite count of dogs` varieties')\n",
    "plt.xticks(rotation=90)\n",
    "plt.show()"
   ]
  },
  {
   "cell_type": "markdown",
   "metadata": {},
   "source": [
    "### 2、那个阶段的狗狗占比更高"
   ]
  },
  {
   "cell_type": "code",
   "execution_count": 131,
   "metadata": {},
   "outputs": [
    {
     "data": {
      "text/plain": [
       "pupper          227\n",
       "doggo            67\n",
       "floof            34\n",
       "puppo            27\n",
       "pupper,doggo      9\n",
       "Name: stage, dtype: int64"
      ]
     },
     "execution_count": 131,
     "metadata": {},
     "output_type": "execute_result"
    }
   ],
   "source": [
    "#获取狗狗的成长阶段信息\n",
    "stage_info_df = dog_info_df[['stage']]\n",
    "stage_info_s = stage_info_df.stage.value_counts()\n",
    "stage_info_s.head()"
   ]
  },
  {
   "cell_type": "code",
   "execution_count": 135,
   "metadata": {},
   "outputs": [
    {
     "data": {
      "text/html": [
       "<div>\n",
       "<style scoped>\n",
       "    .dataframe tbody tr th:only-of-type {\n",
       "        vertical-align: middle;\n",
       "    }\n",
       "\n",
       "    .dataframe tbody tr th {\n",
       "        vertical-align: top;\n",
       "    }\n",
       "\n",
       "    .dataframe thead th {\n",
       "        text-align: right;\n",
       "    }\n",
       "</style>\n",
       "<table border=\"1\" class=\"dataframe\">\n",
       "  <thead>\n",
       "    <tr style=\"text-align: right;\">\n",
       "      <th></th>\n",
       "      <th>stage</th>\n",
       "      <th>stage_count</th>\n",
       "    </tr>\n",
       "  </thead>\n",
       "  <tbody>\n",
       "    <tr>\n",
       "      <th>0</th>\n",
       "      <td>pupper</td>\n",
       "      <td>227</td>\n",
       "    </tr>\n",
       "    <tr>\n",
       "      <th>1</th>\n",
       "      <td>doggo</td>\n",
       "      <td>67</td>\n",
       "    </tr>\n",
       "    <tr>\n",
       "      <th>2</th>\n",
       "      <td>floof</td>\n",
       "      <td>34</td>\n",
       "    </tr>\n",
       "    <tr>\n",
       "      <th>3</th>\n",
       "      <td>puppo</td>\n",
       "      <td>27</td>\n",
       "    </tr>\n",
       "    <tr>\n",
       "      <th>4</th>\n",
       "      <td>pupper,doggo</td>\n",
       "      <td>9</td>\n",
       "    </tr>\n",
       "    <tr>\n",
       "      <th>5</th>\n",
       "      <td>doggo,puppo</td>\n",
       "      <td>2</td>\n",
       "    </tr>\n",
       "    <tr>\n",
       "      <th>6</th>\n",
       "      <td>doggo,floof</td>\n",
       "      <td>2</td>\n",
       "    </tr>\n",
       "    <tr>\n",
       "      <th>7</th>\n",
       "      <td>pupper,floof</td>\n",
       "      <td>1</td>\n",
       "    </tr>\n",
       "  </tbody>\n",
       "</table>\n",
       "</div>"
      ],
      "text/plain": [
       "          stage  stage_count\n",
       "0        pupper          227\n",
       "1         doggo           67\n",
       "2         floof           34\n",
       "3         puppo           27\n",
       "4  pupper,doggo            9\n",
       "5   doggo,puppo            2\n",
       "6   doggo,floof            2\n",
       "7  pupper,floof            1"
      ]
     },
     "execution_count": 135,
     "metadata": {},
     "output_type": "execute_result"
    }
   ],
   "source": [
    "stage_info_dict = {'stage':stage_info_s.index,'stage_count':stage_info_s.values}\n",
    "stage_info_df = pd.DataFrame(stage_info_dict)\n",
    "stage_info_df.head(10)"
   ]
  },
  {
   "cell_type": "code",
   "execution_count": 136,
   "metadata": {},
   "outputs": [
    {
     "data": {
      "image/png": "[encoded data removed]",
      "text/plain": [
       "<Figure size 432x288 with 1 Axes>"
      ]
     },
     "metadata": {},
     "output_type": "display_data"
    }
   ],
   "source": [
    "#可视化展示(柱状图)\n",
    "sns.set_style('whitegrid')\n",
    "sns.barplot(x=stage_info_df['stage'], y=stage_info_df['stage_count'])\n",
    "plt.title('Stage count of dogs` growth')\n",
    "plt.xticks(rotation=90)\n",
    "plt.show()"
   ]
  },
  {
   "cell_type": "markdown",
   "metadata": {},
   "source": [
    "### 3、狗狗的评分是否与转发数与点赞数有关"
   ]
  },
  {
   "cell_type": "code",
   "execution_count": 137,
   "metadata": {},
   "outputs": [
    {
     "name": "stdout",
     "output_type": "stream",
     "text": [
      "<class 'pandas.core.frame.DataFrame'>\n",
      "RangeIndex: 1994 entries, 0 to 1993\n",
      "Data columns (total 21 columns):\n",
      "tweet_id          1994 non-null int64\n",
      "timestamp         1994 non-null object\n",
      "source            1994 non-null object\n",
      "text              1994 non-null object\n",
      "expanded_urls     1994 non-null object\n",
      "name              1380 non-null object\n",
      "rating            1994 non-null float64\n",
      "stage             369 non-null object\n",
      "jpg_url           1994 non-null object\n",
      "img_num           1994 non-null int64\n",
      "p1                1994 non-null object\n",
      "p1_conf           1994 non-null float64\n",
      "p1_dog            1994 non-null bool\n",
      "p2                1994 non-null object\n",
      "p2_conf           1994 non-null float64\n",
      "p2_dog            1994 non-null bool\n",
      "p3                1994 non-null object\n",
      "p3_conf           1994 non-null float64\n",
      "p3_dog            1994 non-null bool\n",
      "retweet_count     1994 non-null int64\n",
      "favorite_count    1994 non-null int64\n",
      "dtypes: bool(3), float64(4), int64(4), object(10)\n",
      "memory usage: 286.3+ KB\n"
     ]
    }
   ],
   "source": [
    "dog_info_df.info()"
   ]
  },
  {
   "cell_type": "code",
   "execution_count": 138,
   "metadata": {},
   "outputs": [
    {
     "name": "stdout",
     "output_type": "stream",
     "text": [
      "<class 'pandas.core.frame.DataFrame'>\n",
      "RangeIndex: 1994 entries, 0 to 1993\n",
      "Data columns (total 3 columns):\n",
      "rating            1994 non-null float64\n",
      "retweet_count     1994 non-null int64\n",
      "favorite_count    1994 non-null int64\n",
      "dtypes: float64(1), int64(2)\n",
      "memory usage: 46.8 KB\n"
     ]
    }
   ],
   "source": [
    "#提取相关属性\n",
    "dog_rating_favorite_df =dog_info_df[['rating','retweet_count','favorite_count']] \n",
    "dog_rating_favorite_df.info()"
   ]
  },
  {
   "cell_type": "code",
   "execution_count": 145,
   "metadata": {},
   "outputs": [
    {
     "name": "stderr",
     "output_type": "stream",
     "text": [
      "D:\\ProgramData\\Anaconda3\\lib\\site-packages\\scipy\\stats\\stats.py:1713: FutureWarning: Using a non-tuple sequence for multidimensional indexing is deprecated; use `arr[tuple(seq)]` instead of `arr[seq]`. In the future this will be interpreted as an array index, `arr[np.array(seq)]`, which will result either in an error or a different result.\n",
      "  return np.add.reduce(sorted[indexer] * weights, axis=axis) / sumval\n"
     ]
    },
    {
     "data": {
      "image/png": "[encoded data removed]",
      "text/plain": [
       "<Figure size 360x360 with 1 Axes>"
      ]
     },
     "metadata": {},
     "output_type": "display_data"
    }
   ],
   "source": [
    "#绘制回归图(评分与转发量)\n",
    "sns.set_style('whitegrid')\n",
    "sns.lmplot(x='retweet_count',y='rating',data = dog_rating_favorite_df)\n",
    "plt.title('Relationship between rating & retweet')\n",
    "plt.show()"
   ]
  },
  {
   "cell_type": "code",
   "execution_count": 148,
   "metadata": {},
   "outputs": [
    {
     "name": "stderr",
     "output_type": "stream",
     "text": [
      "D:\\ProgramData\\Anaconda3\\lib\\site-packages\\scipy\\stats\\stats.py:1713: FutureWarning: Using a non-tuple sequence for multidimensional indexing is deprecated; use `arr[tuple(seq)]` instead of `arr[seq]`. In the future this will be interpreted as an array index, `arr[np.array(seq)]`, which will result either in an error or a different result.\n",
      "  return np.add.reduce(sorted[indexer] * weights, axis=axis) / sumval\n"
     ]
    },
    {
     "data": {
      "image/png": "[encoded data removed]",
      "text/plain": [
       "<Figure size 360x360 with 1 Axes>"
      ]
     },
     "metadata": {},
     "output_type": "display_data"
    }
   ],
   "source": [
    "#绘制回归图(评分与转点赞数)\n",
    "sns.set_style('whitegrid')\n",
    "sns.lmplot(x='favorite_count',y='rating',data = dog_rating_favorite_df)\n",
    "plt.title('Relationship between rating & favorite')\n",
    "plt.show()"
   ]
  },
  {
   "cell_type": "markdown",
   "metadata": {},
   "source": [
    "### 因为rating数值太小 看不出评分与转发数和点赞数的关系\n",
    "### 修改问题3为：3、转发数与点赞数的关系"
   ]
  },
  {
   "cell_type": "code",
   "execution_count": 147,
   "metadata": {},
   "outputs": [
    {
     "data": {
      "image/png": "[encoded data removed]",
      "text/plain": [
       "<Figure size 432x288 with 1 Axes>"
      ]
     },
     "metadata": {},
     "output_type": "display_data"
    }
   ],
   "source": [
    "plt.scatter(dog_rating_favorite_df['favorite_count'],dog_rating_favorite_df['retweet_count'])\n",
    "plt.xlabel('favorite_count')\n",
    "plt.ylabel('retweet_count')\n",
    "plt.title('relationship between favorite_count & retweet_count')\n",
    "plt.show()"
   ]
  },
  {
   "cell_type": "code",
   "execution_count": 149,
   "metadata": {},
   "outputs": [
    {
     "data": {
      "image/png": "[encoded data removed]",
      "text/plain": [
       "<Figure size 576x576 with 2 Axes>"
      ]
     },
     "metadata": {},
     "output_type": "display_data"
    }
   ],
   "source": [
    "fig,ax = plt.subplots(figsize=(8,8))\n",
    "sns.heatmap(dog_rating_favorite_df[['favorite_count','retweet_count']].corr(),annot=True,ax=ax)\n",
    "plt.title('relationship between favorite_count & retweet_count')\n",
    "plt.show()"
   ]
  },
  {
   "cell_type": "code",
   "execution_count": null,
   "metadata": {},
   "outputs": [],
   "source": []
  }
 ],
 "metadata": {
  "kernelspec": {
   "display_name": "Python 3",
   "language": "python",
   "name": "python3"
  },
  "language_info": {
   "codemirror_mode": {
    "name": "ipython",
    "version": 3
   },
   "file_extension": ".py",
   "mimetype": "text/x-python",
   "name": "python",
   "nbconvert_exporter": "python",
   "pygments_lexer": "ipython3",
   "version": "3.7.0"
  }
 },
 "nbformat": 4,
 "nbformat_minor": 2
}
